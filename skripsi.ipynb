{
 "cells": [
  {
   "cell_type": "code",
   "execution_count": 1,
   "metadata": {
    "colab": {
     "base_uri": "https://localhost:8080/"
    },
    "executionInfo": {
     "elapsed": 1558,
     "status": "ok",
     "timestamp": 1619862116024,
     "user": {
      "displayName": "Maulana Rafael Irianto",
      "photoUrl": "https://lh3.googleusercontent.com/a-/AOh14GiZgSFGNk_Q25ta3fmIba7JPffkp3MeZNYUVabk2Q=s64",
      "userId": "10397678997935804438"
     },
     "user_tz": -420
    },
    "id": "OSZ4eNUaSCq9",
    "outputId": "63ee7469-1e5a-4b5d-86a7-e04146873bb2"
   },
   "outputs": [
    {
     "name": "stderr",
     "output_type": "stream",
     "text": [
      "[nltk_data] Downloading package punkt to C:\\Users\\Shofi\n",
      "[nltk_data]     Septyawardhani\\AppData\\Roaming\\nltk_data...\n",
      "[nltk_data]   Package punkt is already up-to-date!\n",
      "[nltk_data] Downloading package wordnet to C:\\Users\\Shofi\n",
      "[nltk_data]     Septyawardhani\\AppData\\Roaming\\nltk_data...\n",
      "[nltk_data]   Package wordnet is already up-to-date!\n",
      "[nltk_data] Downloading package stopwords to C:\\Users\\Shofi\n",
      "[nltk_data]     Septyawardhani\\AppData\\Roaming\\nltk_data...\n",
      "[nltk_data]   Package stopwords is already up-to-date!\n"
     ]
    },
    {
     "data": {
      "text/plain": [
       "True"
      ]
     },
     "execution_count": 1,
     "metadata": {},
     "output_type": "execute_result"
    }
   ],
   "source": [
    "import csv\n",
    "import pandas as pd\n",
    "import nltk\n",
    "import string\n",
    "import re\n",
    "from nltk.tokenize import word_tokenize\n",
    "from nltk.probability import FreqDist\n",
    "from nltk.corpus import stopwords\n",
    "from nltk.stem import PorterStemmer\n",
    "from Sastrawi.Stemmer.StemmerFactory import StemmerFactory\n",
    "from Sastrawi.StopWordRemover.StopWordRemoverFactory import StopWordRemoverFactory\n",
    "nltk.download('punkt')\n",
    "nltk.download('wordnet')\n",
    "nltk.download('stopwords')"
   ]
  },
  {
   "cell_type": "code",
   "execution_count": 2,
   "metadata": {
    "id": "XR-gKVGHSCrH"
   },
   "outputs": [],
   "source": [
    "full = pd.read_csv('data.csv')\n",
    "data = pd.DataFrame(full[['Judul','Abstract']])"
   ]
  },
  {
   "cell_type": "code",
   "execution_count": 3,
   "metadata": {
    "id": "1KolZ47NSCrI"
   },
   "outputs": [],
   "source": [
    "def Preprocessing(texts):\n",
    "    word = []\n",
    "    for text in texts:\n",
    "        #CaseFolding\n",
    "        lower_sentence = text.lower()\n",
    "        #Tokenizing\n",
    "        remove_number = re.sub(r\"\\d+\", \"\", lower_sentence)\n",
    "        remove_whitespace = re.sub(\"\\s+\", \" \", remove_number)\n",
    "        remove_punctuation = remove_whitespace.translate(str.maketrans(\"\", \"\", string.punctuation))\n",
    "        result_tokenizing = remove_punctuation\n",
    "        #many_tokens = nltk.FreqDist(tokens)\n",
    "        #print(many_tokens.most_common())\n",
    "        #Filtering/Stopword\n",
    "        factory_stopword = StopWordRemoverFactory()\n",
    "        stopword = factory_stopword.create_stop_word_remover()\n",
    "        result_stopword = stopword.remove(result_tokenizing)\n",
    "        #Stemming\n",
    "        factory_stemming = StemmerFactory()\n",
    "        stemmer = factory_stemming.create_stemmer()\n",
    "        result_stemming = stemmer.stem(result_stopword)\n",
    "        tokens = nltk.word_tokenize(result_stemming)\n",
    "        word.append(tokens)\n",
    "    return word"
   ]
  },
  {
   "cell_type": "code",
   "execution_count": 4,
   "metadata": {
    "id": "zArGjbYgSCrI"
   },
   "outputs": [],
   "source": [
    "abstract = data['Abstract']\n",
    "data['Abstract Bersih'] = Preprocessing(abstract)"
   ]
  },
  {
   "cell_type": "code",
   "execution_count": 5,
   "metadata": {},
   "outputs": [
    {
     "data": {
      "text/plain": [
       "0      [goatzilla, farm, ada, senduro, kabupaten, lum...\n",
       "1      [informasi, milik, manfaat, alat, ambil, putus...\n",
       "2      [jasa, raharja, rupa, buah, badan, usaha, mili...\n",
       "3      [kembang, trasnportasi, online, sangat, mudah,...\n",
       "4      [klikindomaret, rupa, inovasi, indomaret, upa,...\n",
       "                             ...                        \n",
       "395    [erfa, busana, addimyati, rupa, buah, usaha, k...\n",
       "396    [smpn, sukowono, rupa, salah, satu, sekolah, u...\n",
       "397    [koperasi, salah, satu, bentuk, organisasi, pe...\n",
       "398    [lokasi, rupa, salah, satu, aspek, baur, pasar...\n",
       "399    [rayon, jember, kota, rupa, salah, satu, rayon...\n",
       "Name: Abstract Bersih, Length: 400, dtype: object"
      ]
     },
     "execution_count": 5,
     "metadata": {},
     "output_type": "execute_result"
    }
   ],
   "source": [
    "data['Abstract Bersih']"
   ]
  },
  {
   "cell_type": "code",
   "execution_count": 6,
   "metadata": {
    "id": "GJKnlPhLSCrJ"
   },
   "outputs": [],
   "source": [
    "df = pd.DataFrame(data[['Judul', 'Abstract Bersih']])"
   ]
  },
  {
   "cell_type": "code",
   "execution_count": 7,
   "metadata": {
    "id": "J52o9puTSCrJ"
   },
   "outputs": [],
   "source": [
    "df.rename(columns={'Abstract Bersih':'Abstract'}, inplace=True)"
   ]
  },
  {
   "cell_type": "code",
   "execution_count": 8,
   "metadata": {
    "id": "MAVnKUjPSCrK"
   },
   "outputs": [],
   "source": [
    "#export to csv\n",
    "df.to_csv('Clean.csv', index=False)\n",
    "#export to excel\n",
    "df.to_excel('Clean.xlsx', index=False)"
   ]
  },
  {
   "cell_type": "code",
   "execution_count": 9,
   "metadata": {},
   "outputs": [],
   "source": [
    "def get_list_of_word(list_of_document):\n",
    "    list_of_word = []\n",
    "    for sentence in list_of_document:\n",
    "        for word in sentence:\n",
    "            if word not in list_of_word:\n",
    "                list_of_word.append(word)\n",
    "    return list_of_word"
   ]
  },
  {
   "cell_type": "code",
   "execution_count": 10,
   "metadata": {},
   "outputs": [],
   "source": [
    "length_of_document = len(data['Abstract Bersih'])"
   ]
  },
  {
   "cell_type": "code",
   "execution_count": 11,
   "metadata": {},
   "outputs": [],
   "source": [
    "list_of_word = get_list_of_word(data['Abstract Bersih'])"
   ]
  },
  {
   "cell_type": "code",
   "execution_count": 23,
   "metadata": {},
   "outputs": [
    {
     "name": "stdout",
     "output_type": "stream",
     "text": [
      "['a', 'ab', 'abadi', 'abai', 'abc', 'abcven', 'abdi', 'abdullah', 'abg', 'about', 'absah', 'absensi', 'absolute', 'absorbansi', 'abstrak', 'acak', 'acara', 'acceleration', 'acceptance', 'accesoriesnya', 'access', 'account', 'accounting', 'accuracy', 'accurate', 'accuration', 'acfta', 'ach', 'achieved', 'achmad', 'aco', 'activity', 'actors', 'actual', 'acu', 'ad', 'ada', 'adalah', 'adam', 'adapaun', 'adaptasi', 'adaptive', 'adapun', 'add', 'addimyati', 'addition', 'additive', 'adi', 'adien', 'admin', 'adminduk', 'administrasi', 'administrator', 'adminstrasi', 'adopsi', 'adopted', 'adu', 'advance', 'advances', 'advisor', 'advokasi', 'aes', 'aestethic', 'aestetic', 'aesthetic', 'af', 'afandi', 'afc', 'afifah', 'afkir', 'afrika', 'after', 'agak', 'agam', 'agama', 'agar', 'age', 'agen', 'agenagen', 'agent', 'agoda', 'agraris', 'agricultura', 'agro', 'agroindustri', 'agroindustry', 'agrotechno', 'agrotechnopark', 'agun', 'agung', 'agustina', 'agustus', 'ahli', 'ahmad', 'ahp', 'ai', 'aims', 'air', 'airbone', 'ajar', 'aju', 'ajung', 'akademik', 'akademis', 'akan', 'akar', 'akarakaran', 'akhir', 'akibat', 'akreditasi', 'akses', 'aksi', 'akta', 'aktaakta', 'aktif', 'aktifitas', 'aktivitas', 'aktivitassaja', 'aktor', 'aktual', 'akumulasi', 'akun', 'akuntabel', 'akuntabilitas', 'akuntansi', 'akura', 'akurasi', 'akurat', 'al', 'alam', 'alamat', 'alami', 'alamiah', 'alas', 'alat', 'alatalat', 'alergi', 'alexa', 'alfanumerik', 'alfarisi', 'algoritma', 'alignment', 'alih', 'alir', 'alkalase', 'alkitab', 'all', 'almira', 'alokasi', 'alone', 'alosaimi', 'alpa', 'alpha', 'alqodiri', 'alqodiriperhitungan', 'also', 'altenatif', 'alternatf', 'alternatif', 'alternatifalternatif', 'alternative', 'altman', 'alumni', 'alur', 'amal', 'amalfu', 'amalgamasi', 'aman', 'amaranti', 'amat', 'ambak', 'ambigu', 'ambiguitas', 'ambil', 'amblas', 'ambulu', 'amdk', 'amerika', 'amin', 'amongst', 'amstrong', 'an', 'anaalisis', 'anak', 'anakanak', 'analis', 'analisa', 'analisaanalisa', 'analisaevaluasi', 'analisanya', 'analisis', 'analisys', 'analitik', 'analityc', 'analitycal', 'analysis', 'analytic', 'analytical', 'anas', 'ancam', 'ancang', 'and', 'anda', 'andal', 'andang', 'andreas', 'andrew', 'android', 'aneka', 'ang', 'anggap', 'anggar', 'angggaran', 'anggota', 'anggotanyadengan', 'anggur', 'angka', 'angkasa', 'angkat', 'angkin', 'angkut', 'angsur', 'animation', 'animo', 'anjing', 'anjung', 'ann', 'anonymity', 'anri', 'ansietas', 'ant', 'antar', 'antara', 'antarmuka', 'antasari', 'antibakteri', 'antisipasi', 'antivirus', 'antre', 'antri', 'antusias', 'anut', 'apa', 'apabila', 'aparataparat', 'apbd', 'aphis', 'api', 'apik', 'apilkasi', 'aplication', 'aplikasi', 'aplikasis', 'apotek', 'apoteker', 'apotekersistem', 'appearance', 'applciation', 'application', 'applications', 'apply', 'applying', 'appropriate', 'apps', 'april', 'apriori', 'apv', 'aqua', 'arabika', 'arah', 'arang', 'arbi', 'ardhiarta', 'are', 'area', 'arena', 'ari', 'arima', 'aritificial', 'arkesma', 'aroma', 'arsip', 'arti', 'artificial', 'artikel', 'aru', 'as', 'asa', 'asah', 'asal', 'asap', 'asar', 'asean', 'aseanchina', 'asembagus', 'asesmen', 'aset', 'asi', 'asia', 'asimetris', 'asing', 'asisten', 'asli', 'asma', 'asn', 'aspect', 'aspek', 'aspekaspek', 'assessment', 'asset', 'association', 'associatioon', 'associtation', 'assurance', 'asuh', 'asumsi', 'asupan', 'asuransi', 'asus', 'atas', 'atau', 'atif', 'atk', 'atm', 'atr', 'atribut', 'atributatributnya', 'atribute', 'atributkriteria', 'atrribute', 'attractive', 'attribut', 'attribute', 'atur', 'aturanaturan', 'audio', 'audit', 'augmented', 'aula', 'auspices', 'autentifikasi', 'autentikasi', 'authentic', 'authentication', 'authorized', 'autokorelasi', 'automated', 'availability', 'avanza', 'average', 'avl', 'awal', 'awaldanbeban', 'awam', 'awas', 'awat', 'awet', 'ayam', 'ayamkesehatan', 'ayan', 'ayanigang', 'ayat', 'ayuardini', 'azwar', 'b', 'bab', 'baca', 'bacillus', 'back', 'backpropagation', 'backward', 'badan', 'badges', 'bagai', 'bagaimana', 'bagan', 'bagi', 'baglog', 'bagus', 'bahagia', 'bahan', 'bahanbahan', 'baharu', 'bahas', 'bahasa', 'bahaya', 'bahkan', 'bahtiar', 'baik', 'baikmembuat', 'baikt', 'baja', 'bak', 'bakar', 'bakat', 'bakry', 'bakteri', 'bakti', 'baku', 'bal', 'balanced', 'balik', 'balita', 'balur', 'band', 'bandang', 'bandar', 'banding', 'bandnya', 'bangkit', 'bangkrut', 'bangsa', 'bangun', 'banjar', 'banjir', 'bank', 'bankbank', 'banking', 'bantah', 'banteng', 'bantu', 'banyak', 'banyuputih', 'banyuwangi', 'bapak', 'bappeda', 'bappekab', 'barang', 'barangbarang', 'baranng', 'barat', 'baris', 'barokah', 'baru', 'bas', 'basah', 'base', 'basecamp', 'based', 'basic', 'basis', 'basket', 'batas', 'batik', 'batita', 'batuk', 'baur', 'bawa', 'bawah', 'baya', 'bayam', 'bayanknya', 'bayar', 'bayes', 'bayi', 'bbm', 'bca', 'bco', 'be', 'beasiswa', 'beasiswadengan', 'beban', 'bebas', 'beberapa', 'bebrapa', 'become', 'beda', 'bedan', 'bedasarkan', 'bee', 'beef', 'bega', 'began', 'begitu', 'begitupula', 'behavior', 'behavioral', 'bei', 'bekas', 'bekerjasama', 'belah', 'belakang', 'belas', 'beli', 'belikan', 'bellman', 'belum', 'bem', 'benah', 'benar', 'benarbenar', 'bencana', 'benda', 'bendabenda', 'bendahara', 'beneficiency', 'benefit', 'benefits', 'bengkel', 'bengunan', 'benih', 'bensin', 'benteng', 'bentrok', 'bentuk', 'bep', 'berantas', 'berapa', 'beras', 'berat', 'berbedabeda', 'berbunyimengi', 'berdasarakan', 'berdebardebar', 'berhubngan', 'beri', 'berita', 'berjamjam', 'berkalikali', 'berkas', 'berkasberkas', 'berlombalomba', 'bermacammacam', 'berpatisipasi', 'bersih', 'bertahuntahun', 'berturutturut', 'berubahubah', 'berulangkali', 'berulangulang', 'berwanang', 'berwirausaha', 'besama', 'besar', 'besaraplikasi', 'besi', 'beside', 'best', 'bestcow', 'besuk', 'beta', 'betapa', 'between', 'bhatti', 'biar', 'bias', 'biasa', 'biaya', 'biayabiaya', 'bibit', 'bicara', 'bidan', 'bidang', 'bijak', 'bijaksana', 'biji', 'bila', 'bilang', 'billing', 'bimbing', 'bina', 'binatang', 'bingung', 'bintang', 'bintara', 'bintikbintik', 'biometrik', 'biro', 'birokrasi', 'biru', 'bisa', 'bisnis', 'bit', 'bita', 'bkd', 'black', 'blangko', 'blitar', 'blogger', 'blok', 'bluefire', 'blueprint', 'bmkg', 'bmt', 'bni', 'bobot', 'bobotbobot', 'body', 'boleh', 'bondowoso', 'bookkeeping', 'borneo', 'borong', 'bos', 'boston', 'botol', 'box', 'bpi', 'bpka', 'bpkp', 'bpmf', 'bpmpd', 'bpom', 'bps', 'brainware', 'brand', 'branding', 'break', 'bri', 'broiler', 'brosur', 'browser', 'brute', 'bsana', 'bsm', 'btn', 'buah', 'buahbuahan', 'buang', 'buat', 'bubuk', 'budaya', 'budde', 'budgeting', 'budhi', 'budidaya', 'budling', 'buffer', 'buka', 'bukalapak', 'bukan', 'bukti', 'buktibukti', 'buku', 'bulan', 'bulannnya', 'bulanyafiturfitur', 'bulat', 'bulir', 'bulk', 'bulu', 'bulubulunya', 'buluh', 'bumdes', 'bumindo', 'bumn', 'bundling', 'bunga', 'bupati', 'bursa', 'buruk', 'burung', 'busana', 'business', 'bustommy', 'busuk', 'buta', 'butik', 'butirbutir', 'butuh', 'by', 'c', 'cabai', 'cabang', 'cacao', 'cacat', 'cad', 'cadang', 'cahari', 'cahaya', 'cahyono', 'cair', 'cakup', 'calculation', 'calistung', 'called', 'calon', 'camat', 'can', 'canang', 'canggih', 'cangkring', 'cangkup', 'cantik', 'cantum', 'cap', 'capability', 'capable', 'capai', 'capres', 'capture', 'cara', 'caracara', 'card', 'care', 'cari', 'cascade', 'case', 'cash', 'cashsalah', 'cassava', 'catat', 'cause', 'cawapres', 'cci', 'cdc', 'cegah', 'cemar', 'cemerlang', 'cendana', 'cenderung', 'center', 'centered', 'centroid', 'cepat', 'cerdas', 'ceria', 'cerita', 'cermat', 'certainty', 'cerutu', 'cetak', 'cetus', 'chain', 'chaining', 'chainning', 'challenge', 'championship', 'change', 'characteristic', 'characteristics', 'chart', 'chat', 'cheapest', 'children', 'china', 'choosing', 'ci', 'cigars', 'cina', 'cinemaxx', 'cinta', 'cipher', 'cipta', 'cir', 'ciri', 'ciriciri', 'cita', 'citizen', 'citra', 'class', 'classication', 'classification', 'classifier', 'classify', 'clbo', 'cleo', 'client', 'clientside', 'club', 'cluring', 'cluster', 'clustering', 'clusterinng', 'clutser', 'cm', 'coba', 'cobit', 'cocok', 'code', 'codeigniter', 'coffee', 'coklat', 'cokroaminnoto', 'colaizzi', 'coli', 'collaizi', 'collecting', 'colony', 'combo', 'commerce', 'communication', 'community', 'compensation', 'complete', 'component', 'composite', 'computer', 'computerization', 'computers', 'computing', 'concept', 'conclusion', 'concordance', 'concrete', 'condition', 'conditional', 'confidence', 'confidentialy', 'confusion', 'confussion', 'consent', 'consist', 'consistency', 'contact', 'contains', 'content', 'continues', 'contoh', 'control', 'convert', 'convolutional', 'copy', 'core', 'corporate', 'cosine', 'cosmetic', 'cosmetics', 'cost', 'costing', 'costingdalam', 'countdown', 'countries', 'covid', 'cow', 'crawling', 'credit', 'crips', 'criteria', 'criterias', 'criterion', 'critical', 'crm', 'cross', 'crossover', 'crude', 'csf', 'csv', 'cuaca', 'cube', 'cuci', 'cukup', 'cultural', 'culture', 'cultures', 'cup', 'curah', 'curahlindak', 'curang', 'curi', 'curiga', 'customer', 'custumer', 'cuti', 'cv', 'cvamdk', 'cvsiplho', 'cycle', 'd', 'dadak', 'daei', 'daerah', 'daerahdaerah', 'daftar', 'dagang', 'daging', 'dahaga', 'dahulu', 'daily', 'daintaranya', 'dak', 'daki', 'dalam', 'dampak', 'damping', 'dan', 'dana', 'danatau', 'danau', 'dapat', 'dar', 'darah', 'darat', 'dari', 'darmaja', 'darmawan', 'darurat', 'dasa', 'dasar', 'dasaryang', 'dashboard', 'dasijr', 'data', 'database', 'databasenya', 'databse', 'datadata', 'datamining', 'datang', 'dataset', 'date', 'daun', 'davis', 'daya', 'dbms', 'ddc', 'ddiiggiittaall', 'dealer', 'dealernya', 'death', 'debat', 'debitur', 'debu', 'decimal', 'decision', 'decission', 'deep', 'default', 'defined', 'definisi', 'definition', 'defuzzier', 'defuzzification', 'degree', 'dekafeinasi', 'dekat', 'dekomposisi', 'dekripsi', 'dekripsinya', 'delay', 'delete', 'delisting', 'deliver', 'delivery', 'delone', 'demam', 'demand', 'demank', 'demikian', 'demografi', 'dengan', 'dengand', 'dengar', 'depan', 'departemen', 'departement', 'departemn', 'department', 'dependen', 'depo', 'depodepo', 'depot', 'depotpa', 'depresi', 'derajat', 'derita', 'desa', 'desaign', 'desain', 'desakelurahan', 'deselesaikan', 'desember', 'design', 'designed', 'deskripsi', 'deskriptif', 'desktop', 'destinasi', 'desy', 'detail', 'deteksi', 'detempatkan', 'determination', 'determine', 'determining', 'detik', 'detikcom', 'detikfinance', 'detikfood', 'detikhealt', 'detikhot', 'detiknews', 'detikoto', 'detiksport', 'detiktravel', 'develop', 'developed', 'developing', 'development', 'developments', 'device', 'devisa', 'dewan', 'dewasa', 'dewata', 'dewey', 'dgunakan', 'dh', 'dhantimagic', 'di', 'diabetes', 'diabetic', 'diagnosa', 'diagnosanya', 'diagnose', 'diagnosis', 'diagram', 'dian', 'dianalisa', 'diary', 'diataranya', 'dibagun', 'dibudidayakan', 'dibuthkan', 'dichotomiser', 'didik', 'didukungpenuh', 'difa', 'differentiation', 'diflia', 'digit', 'digital', 'digitalisasi', 'digunakandan', 'dihasikan', 'diimplemetasikan', 'diimplimentasikan', 'diimplmentasikan', 'diinputkan', 'dijkstra', 'dikarekanan', 'dikembangakan', 'dikembangbiakkan', 'dikoordinir', 'dikti', 'diktuba', 'dilakukakan', 'dilatarbelakangi', 'dilution', 'dim', 'dimensi', 'diminimalisir', 'din', 'dinamis', 'dinas', 'dinasopd', 'dinasorganisasi', 'dingin', 'dini', 'dinkes', 'dinkominfo', 'dipengaruhhi', 'diponegoro', 'dipungkiri', 'diratarata', 'direct', 'direction', 'direkeondasikan', 'direkomendasikanuntuk', 'direksi', 'direktorat', 'diri', 'disabilitas', 'disalahgunakan', 'disaster', 'discomfort', 'discordance', 'discreteevent', 'disediakanya', 'disediakkan', 'disiplin', 'diskominfo', 'diskrit', 'diskusi', 'disortasi', 'dispenduk', 'dispendukcapil', 'disperindag', 'displayed', 'distance', 'distorsi', 'distribusi', 'distributed', 'distribution', 'distributor', 'disurvey', 'diterimatidak', 'ditjen', 'ditlitabmas', 'ditribusinya', 'ditulisakan', 'diversifikasi', 'divided', 'divisi', 'divisidivisi', 'djaja', 'djaya', 'djikstra', 'dkk', 'do', 'document', 'documentation', 'dodol', 'dog', 'dokter', 'doktoral', 'dokumen', 'dokumendokumen', 'dokumentasi', 'domain', 'domainvariabel', 'domba', 'domestik', 'dominan', 'dominasi', 'dominating', 'dominator', 'done', 'donor', 'dorong', 'dosen', 'dosis', 'double', 'down', 'downliner', 'download', 'dpu', 'dr', 'drainase', 'dramatis', 'drastis', 'driver', 'drop', 'drp', 'dss', 'dtsa', 'dua', 'duduk', 'duia', 'duka', 'dukung', 'dulu', 'dunia', 'duplikasi', 'duplikat', 'durasi', 'duration', 'during', 'dusun', 'dwi', 'dwidaku', 'dynaplast', 'e', 'each', 'early', 'ease', 'easier', 'easily', 'ecek', 'ecommerce', 'economic', 'economics', 'economy', 'ecrm', 'edar', 'edel', 'edi', 'edit', 'editor', 'education', 'educator', 'edukasi', 'edukator', 'efe', 'efek', 'efektif', 'efektifitas', 'efektivitas', 'effectiveness', 'efficiency', 'effort', 'efiensi', 'efisien', 'efisiensi', 'eg', 'egovernment', 'egovqual', 'ekakurir', 'eko', 'ekonomi', 'ekonomis', 'ekor', 'ekosistem', 'eks', 'eksekusi', 'eksekutif', 'eksistensi', 'eksklusi', 'eksklusif', 'eksplorasi', 'eksponensial', 'ekspor', 'ekspresi', 'eksternal', 'ekstra', 'ekstrak', 'ekstraksi', 'ekstrakurikuer', 'ekstrakurikuler', 'ekuitas', 'elaborasi', 'elearning', 'electre', 'electronic', 'elektornik', 'elektronik', 'elemen', 'elemenelemen', 'element', 'elements', 'elgamal', 'eligibility', 'elitism', 'elo', 'emarketercom', 'emarketing', 'emarketplace', 'emas', 'emban', 'emfn', 'emina', 'emosi', 'emosional', 'empat', 'emphaty', 'employ', 'enabler', 'enables', 'enabling', 'enam', 'encryption', 'end', 'endang', 'energi', 'enggan', 'enginering', 'english', 'enkripsi', 'enrichment', 'entering', 'enterprise', 'enterprises', 'entri', 'entropy', 'environment', 'enzim', 'enzimatik', 'eoq', 'epoch', 'eps', 'equation', 'er', 'era', 'erat', 'ereadiness', 'erfa', 'ering', 'eroded', 'error', 'errors', 'erwansyah', 'escherichia', 'esensial', 'eservice', 'esok', 'especially', 'establish', 'established', 'estetik', 'estetika', 'estimasi', 'et', 'etax', 'etika', 'euclidean', 'eucs', 'evakuasi', 'evaluasi', 'evaluasievaluasi', 'evaluation', 'evb', 'even', 'event', 'eventevent', 'every', 'evillage', 'evolusi', 'excel', 'exist', 'existing', 'expectancy', 'experience', 'expert', 'exploiting', 'exponential', 'export', 'exposure', 'expression', 'exsperience', 'extensible', 'extent', 'extreme', 'eyes', 'f', 'fabrikasi', 'face', 'facebook', 'facilitated', 'facilitating', 'facilities', 'factor', 'factorfaktor', 'fahmi', 'fahp', 'fairness', 'faizin', 'faki', 'fakor', 'fakta', 'faktafakta', 'faktor', 'faktorfaktor', 'fakultas', 'familiar', 'farm', 'farmasi', 'farms', 'fase', 'fasilitas', 'fasilitator', 'fasilkom', 'fatal', 'fatkhurrozi', 'fatmawati', 'fattening', 'favorit', 'fazira', 'feature', 'features', 'feb', 'februari', 'federasi', 'feedback', 'fenomena', 'fenomenologi', 'fermentasi', 'festival', 'fhitung', 'field', 'fields', 'filamen', 'file', 'filefile', 'film', 'filosofi', 'filter', 'finace', 'finance', 'finansial', 'finasial', 'fingerprint', 'firdaus', 'firm', 'firmly', 'fis', 'fishbone', 'fisher', 'fisherface', 'fisheryates', 'fisik', 'fit', 'fitness', 'fitri', 'fitriah', 'fitur', 'fiturfitur', 'five', 'fixed', 'fleksibel', 'fleksibilitas', 'flexibility', 'flipped', 'flour', 'flow', 'flowthing', 'fluktualitas', 'fluktuasi', 'fluktuatif', 'fm', 'fmadmsaw', 'fmeasure', 'fn', 'fokus', 'folding', 'folk', 'font', 'foppi', 'foq', 'for', 'force', 'ford', 'foreign', 'form', 'formal', 'formalinformal', 'formasi', 'format', 'formula', 'formulaformula', 'forum', 'forward', 'foto', 'fotocopy', 'fp', 'fpgrowth', 'fpj', 'fpxipyipzixiyixizi', 'fpxj', 'fr', 'frame', 'framework', 'free', 'freedom', 'frekuensi', 'frequency', 'frequent', 'friendly', 'from', 'frost', 'fscore', 'fu', 'fulfill', 'fulfillment', 'fulltest', 'fulltrain', 'fully', 'fun', 'fungisida', 'fungsi', 'fungsional', 'furniture', 'futsal', 'fuzzification', 'fuzzy', 'fuzzyahp', 'fuzzyset', 'g', 'gabah', 'gabung', 'gagak', 'gagal', 'gagas', 'gain', 'gajah', 'gaji', 'galang', 'galaxy', 'gali', 'galileo', 'galon', 'galur', 'galvalum', 'gambar', 'gambir', 'game', 'gamenya', 'gamers', 'gamifikasi', 'gamis', 'gamma', 'ganda', 'gandeng', 'gang', 'ganggu', 'ganguan', 'ganti', 'gantung', 'gap', 'garansi', 'gardu', 'gari', 'garis', 'gas', 'gateway', 'gaya', 'gedang', 'gedung', 'gejala', 'gejalagejala', 'gejolak', 'gelas', 'gelombang', 'gelut', 'gembala', 'gemilang', 'gempa', 'gemuk', 'genang', 'genap', 'gender', 'gending', 'gendung', 'general', 'generalized', 'generasi', 'generasigenerasi', 'generation', 'generic', 'genetika', 'genggam', 'genteng', 'geocoding', 'geografi', 'geografis', 'geograsi', 'geologi', 'geologist', 'gera', 'gerai', 'gerak', 'gereja', 'gergaji', 'gesca', 'geser', 'get', 'getsemani', 'getting', 'ggcp', 'ggph', 'ggpi', 'giant', 'giat', 'gigi', 'giling', 'gingivitis', 'giri', 'gis', 'gita', 'gizi', 'gkp', 'gkt', 'glenmore', 'global', 'globalisasi', 'globalization', 'glukosa', 'gnemon', 'gnetum', 'go', 'goal', 'goals', 'goalsprocess', 'goatzilla', 'god', 'gojek', 'golden', 'golong', 'good', 'google', 'googlemaps', 'gopublic', 'gossypii', 'governace', 'governance', 'government', 'gpi', 'gpib', 'gps', 'grab', 'grade', 'grader', 'graf', 'grafik', 'grafis', 'gram', 'gran', 'graphical', 'grati', 'gratis', 'grayscale', 'greedy', 'gresik', 'grey', 'griya', 'grosir', 'group', 'groups', 'growing', 'growth', 'grujugan', 'gsca', 'gubuk', 'gudang', 'gudanggudang', 'gudangsistem', 'gudeg', 'gui', 'guide', 'gula', 'gun', 'guna', 'gunung', 'guru', 'guruguru', 'gwps', 'h', 'ha', 'habis', 'had', 'hadap', 'hadiah', 'hadir', 'haji', 'hak', 'hal', 'halal', 'halaman', 'halang', 'halhal', 'halo', 'halus', 'hama', 'hambat', 'hampir', 'handani', 'handiani', 'handphone', 'hani', 'hanya', 'hapus', 'hara', 'harap', 'hard', 'harga', 'hari', 'harihari', 'harmful', 'harmonis', 'harta', 'harus', 'hash', 'hashed', 'hashing', 'hasii', 'hasil', 'hasisl', 'hati', 'have', 'hayam', 'header', 'health', 'healthy', 'hectare', 'hektar', 'help', 'hemat', 'hendak', 'herman', 'heteroskedastisitas', 'heteroskedastistitas', 'heuristic', 'hewan', 'hexadecimal', 'hias', 'hibrida', 'hibur', 'hidayah', 'hidrolisat', 'hidrolisis', 'hidroponik', 'hidup', 'hieararchy', 'hierarchical', 'hierarchy', 'hierarcy', 'high', 'highquality', 'hilang', 'himpun', 'hindar', 'hingga', 'hipertensi', 'hipotalamus', 'hipotesa', 'hipotesis', 'histogram', 'historis', 'hitam', 'hitung', 'hmt', 'hobi', 'hologram', 'holt', 'holtwinter', 'holtwinters', 'home', 'homestay', 'honda', 'hot', 'hotel', 'hotfit', 'hotwheels', 'hours', 'house', 'how', 'hrd', 'hsv', 'html', 'httplibraryunejacid', 'httpselearningunejacid', 'httpsirenbangjemberkabgoid', 'httpsisterunejacid', 'httpwwwtelkomselcomgoodcorporategovernance', 'hubung', 'hudsonsmith', 'hujan', 'hukum', 'human', 'humanis', 'humans', 'huni', 'huruf', 'hutan', 'hutang', 'hyper', 'hypermart', 'hypertext', 'hyun', 'i', 'ialah', 'ibadah', 'ibm', 'ibu', 'ic', 'icdt', 'id', 'idap', 'ide', 'ideal', 'identifikasi', 'identik', 'idul', 'ie', 'if', 'ifan', 'ife', 'igniter', 'ignither', 'ii', 'ijazah', 'ijen', 'ijin', 'ikan', 'ikat', 'iklan', 'iklim', 'ikon', 'ikut', 'ilmiah', 'ilmu', 'ilustrasi', 'image', 'images', 'imam', 'imbang', 'imbas', 'impact', 'impacted', 'impas', 'impi', 'implementasi', 'implementation', 'implemented', 'implies', 'implikasi', 'importance', 'importanceperformance', 'improvement', 'imunitas', 'in', 'ina', 'inap', 'income', 'incomplete', 'increasingly', 'increment', 'incremental', 'indah', 'indekos', 'indeks', 'independen', 'independensi', 'index', 'india', 'indicator', 'indie', 'indikasi', 'indikator', 'indikatorindikator', 'indikatoritem', 'indikatorndikator', 'individu', 'indo', 'indomaret', 'indonesi', 'indonesia', 'indonesian', 'indra', 'induk', 'industri', 'industrial', 'industry', 'inert', 'infection', 'infeksi', 'inference', 'inferensi', 'inflasi', 'influence', 'influx', 'info', 'informan', 'informasi', 'informasiinformasi', 'informatika', 'information', 'informed', 'infrastructure', 'infrastrukstur', 'infrastruktur', 'infromasi', 'ingat', 'inggris', 'ingin', 'ingkat', 'ini', 'inisiasi', 'injil', 'inklusi', 'innovation', 'innovativeness', 'inodnesia', 'inovasi', 'inovatif', 'inpres', 'input', 'inputan', 'insan', 'insecurity', 'insektisida', 'insentif', 'insertion', 'insidental', 'insidentil', 'inspeksi', 'instagram', 'instalasi', 'instansi', 'instansiperusahaan', 'instant', 'institusi', 'instrumen', 'instrument', 'integrasi', 'integration', 'integritas', 'intelegence', 'intelegensi', 'intelektual', 'intelligence', 'intelligencz', 'intelligent', 'intelligenz', 'intensitas', 'intention', 'interact', 'interaction', 'interactive', 'interaksi', 'interaktif', 'interchange', 'interface', 'intermediate', 'internal', 'internasional', 'international', 'internet', 'interpretasi', 'interruption', 'intervace', 'interval', 'inti', 'into', 'intraretinal', 'intrindo', 'introduce', 'intuisi', 'intuk', 'invariant', 'inventarisasi', 'inventory', 'inverse', 'inverstasi', 'invesment', 'investasi', 'investor', 'ip', 'ipa', 'ipk', 'iq', 'iqdeviasi', 'irawan', 'iriani', 'irigasi', 'iring', 'is', 'isaca', 'ishihara', 'isi', 'islam', 'isn', 'iso', 'isoiec', 'isolat', 'issm', 'ist', 'istilah', 'istirahat', 'istri', 'it', 'item', 'itemitem', 'itemsets', 'iterasi', 'iterative', 'itil', 'itrelated', 'itrg', 'its', 'itt', 'itu', 'ix', 'izin', 'j', 'jabar', 'jabat', 'jadi', 'jadwal', 'jaffe', 'jaga', 'jagung', 'jajah', 'jajan', 'jaksa', 'jalan', 'jalanjalan', 'jalannamun', 'jalanuntuk', 'jalin', 'jalur', 'jam', 'jamah', 'jaman', 'jamin', 'jamu', 'jamur', 'jang', 'janggawah', 'jangka', 'jangkau', 'jani', 'janji', 'jantung', 'januari', 'jarak', 'jarang', 'jaring', 'jasa', 'jasmani', 'jasmine', 'jati', 'jatim', 'jauh', 'java', 'jawa', 'jawab', 'jaya', 'jejaring', 'jelajah', 'jelas', 'jemaat', 'jembatan', 'jember', 'jemberuntuk', 'jemput', 'jenang', 'jenderal', 'jenggawah', 'jenis', 'jenisjenis', 'jenjang', 'jika', 'jingga', 'jiplak', 'jit', 'jiwa', 'jk', 'jl', 'jne', 'jokowi', 'jombang', 'json', 'jual', 'juanda', 'juang', 'jubung', 'judul', 'judy', 'juga', 'juli', 'jumaidi', 'jumat', 'jumlah', 'jumpa', 'juni', 'jurnal', 'juru', 'jurus', 'just', 'justru', 'juta', 'k', 'kab', 'kabag', 'kabar', 'kabe', 'kabel', 'kabupaten', 'kabur', 'kaca', 'kacang', 'kacangkacangan', 'kadaluarsa', 'kadaluarsanya', 'kadang', 'kadar', 'kadek', 'kafe', 'kafein', 'kai', 'kaidah', 'kaidahkaidah', 'kain', 'kait', 'kaji', 'kajiankajian', 'kakao', 'kaki', 'kaku', 'kala', 'kalah', 'kalan', 'kalang', 'kali', 'kalimantan', 'kalisat', 'kalisepanjang', 'kaliwates', 'kalkulasi', 'kalori', 'kam', 'kamar', 'kambing', 'kamera', 'kampanye', 'kampus', 'kamus', 'kan', 'kandang', 'kandidat', 'kandung', 'kantor', 'kantung', 'kaola', 'kapabilitas', 'kapan', 'kapasitas', 'kapiler', 'kapita', 'kapling', 'karakter', 'karakteristik', 'karbohidrat', 'kardiovaskuler', 'karena', 'karet', 'karier', 'karpet', 'kartu', 'karya', 'karyawan', 'kas', 'kasar', 'kasat', 'kasir', 'kasus', 'kata', 'katagori', 'kategori', 'kategorikategori', 'katuk', 'kawah', 'kawanda', 'kawasan', 'kaya', 'kayumas', 'kb', 'kcu', 'ke', 'keadaaan', 'keasalahan', 'kebun', 'kebutuhankebutuhan', 'kec', 'kecambah', 'kece', 'kecewa', 'kecil', 'keclicin', 'kecoak', 'kecuali', 'kedelai', 'keep', 'kegiatankegiatan', 'keikutsertaan', 'kejar', 'kelah', 'kelak', 'kelamin', 'kelas', 'keliru', 'kelola', 'kelompok', 'kelontong', 'keluar', 'keluarga', 'keluh', 'kelulus', 'kemas', 'kembali', 'kembang', 'kembar', 'kembarud', 'kembeng', 'kembung', 'kemenkes', 'kemenristekdikti', 'kemudi', 'kemudian', 'kemungkinankemungkinan', 'kena', 'kenal', 'kenan', 'kencan', 'kencana', 'kencong', 'kendala', 'kendalakendala', 'kendali', 'kendara', 'kenyang', 'kenyat', 'kenyataanya', 'kepada', 'kepagawain', 'kepala', 'kepegawain', 'kepul', 'kerahasian', 'kerangka', 'kerap', 'keras', 'kereta', 'kering', 'kerja', 'kerjasama', 'kerowono', 'kertas', 'kertasbuku', 'kertowono', 'kerudung', 'kerugianprediksi', 'kerumit', 'kes', 'kesah', 'kesan', 'kesesuain', 'kesiap', 'kesulitankesulitan', 'ketakasi', 'ketakasih', 'ketan', 'ketanagalistrikan', 'ketat', 'ketenagakerjaan', 'ketidakakuratan', 'ketidakdisiplinan', 'ketidakmampuan', 'ketidakpastian', 'ketidakpuasan', 'ketidaksesuaian', 'ketidakstabilan', 'ketidaktahuan', 'ketika', 'ketua', 'keungulan', 'kewalahan', 'key', 'keypoint', 'kg', 'kgkapita', 'kh', 'khas', 'khasiat', 'khawatir', 'khoirun', 'khoirunnisa', 'khusunya', 'khusus', 'kia', 'kicau', 'kimball', 'kimia', 'kinarta', 'kini', 'kinik', 'kipas', 'kira', 'kirim', 'kirteria', 'kisar', 'kita', 'kk', 'klasifikasi', 'klien', 'klik', 'klikindomaret', 'klinik', 'km', 'kmeans', 'knearest', 'kneraest', 'kode', 'kodekode', 'koefesiensi', 'koefisien', 'kognitif', 'koi', 'kolaborasi', 'kolom', 'kombi', 'kombinasi', 'komentar', 'kominfo', 'komitmen', 'komoditas', 'komoditi', 'komparasi', 'kompas', 'kompeten', 'kompetensi', 'kompetisi', 'kompetitif', 'kompetitor', 'kompleks', 'kompleksitas', 'komplikasi', 'komplit', 'komponen', 'komponenkomponen', 'komposisi', 'komposit', 'komprehensif', 'komputasi', 'komputer', 'komputerisasi', 'komuditas', 'komunika', 'komunikasi', 'komunitas', 'kondisi', 'kondisikondisi', 'kondsi', 'koneksi', 'konfirmasi', 'konsentrasi', 'konsep', 'konsepkonsep', 'konseptual', 'konservasi', 'konsistensi', 'konsnetrasi', 'konstruk', 'konstrukkonstruk', 'konstruksi', 'konsultan', 'konsultasi', 'konsumen', 'konsumenkonsumen', 'konsumsi', 'konsumtif', 'konteks', 'konten', 'kontinuitas', 'kontrak', 'kontraktor', 'kontras', 'kontrasepsi', 'kontribusi', 'kontrol', 'konveksi', 'konvensional', 'konversi', 'koordinasi', 'koordinat', 'koperasi', 'kopersi', 'kopi', 'kopirobusta', 'koprasi', 'koran', 'korban', 'korporasi', 'kosep', 'kosmetik', 'kosong', 'kostrad', 'kosumen', 'kota', 'kotakota', 'kotamadya', 'koteks', 'kotler', 'kotor', 'kpe', 'kpknl', 'kpmkader', 'kpr', 'kpri', 'kpu', 'kr', 'kreatif', 'kreatifitas', 'kredibilitas', 'kredit', 'kreditur', 'kretek', 'kriptanalisis', 'kriptografi', 'krisis', 'kristen', 'kristus', 'kriteria', 'kriteriakriteria', 'kritik', 'kritis', 'kromosom', 'kronik', 'kronis', 'krs', 'krusial', 'ksu', 'kta', 'ktetangga', 'ktp', 'ktpel', 'kuadran', 'kualitas', 'kualitatif', 'kuang', 'kuantifikasi', 'kuantitaif', 'kuantitas', 'kuantitatif', 'kuasa', 'kuat', 'kuesioner', 'kui', 'kuisioner', 'kuisoner', 'kuliah', 'kuliner', 'kulit', 'kulitas', 'kumpul', 'kumulatif', 'kunci', 'kuncikunci', 'kunjung', 'kuota', 'kurang', 'kurikulum', 'kurir', 'kursi', 'kurun', 'kurus', 'kusioner', 'kutu', 'kw', 'kwh', 'kwha', 'l', 'laba', 'labarugi', 'label', 'labil', 'laborat', 'laboratorium', 'labuh', 'lacak', 'lacasa', 'lagi', 'lahan', 'lahir', 'lai', 'lain', 'lainlain', 'lainuji', 'laju', 'lakilaki', 'laksa', 'laksana', 'laku', 'lalai', 'lalang', 'lalu', 'lalulintas', 'lama', 'laman', 'lamar', 'lambat', 'lampau', 'lampir', 'lampu', 'lancar', 'land', 'landas', 'lands', 'landuse', 'lang', 'langgan', 'langgar', 'langgeng', 'langka', 'langkah', 'langkahlangkah', 'langsung', 'language', 'lanjut', 'lansia', 'lantai', 'lapang', 'lapis', 'lapor', 'laporanlaporan', 'laptop', 'laravel', 'lari', 'laris', 'larisa', 'larissa', 'larut', 'latar', 'latih', 'laukpauk', 'laut', 'lautsebelum', 'lava', 'lawan', 'layak', 'layan', 'layananlayanan', 'layananya', 'layanglayang', 'layar', 'layer', 'lazada', 'lbb', 'lbs', 'leader', 'leaderboard', 'leaderboards', 'leadership', 'leaflet', 'lean', 'learning', 'least', 'leave', 'leaving', 'lebah', 'lebar', 'lebih', 'lebuh', 'led', 'legislatif', 'lelah', 'lelang', 'leleh', 'leluasa', 'lemah', 'lemak', 'lemari', 'lembaga', 'lembaranlembaran', 'lembut', 'lengkap', 'lepas', 'lereng', 'les', 'letak', 'level', 'levels', 'lewat', 'lfl', 'libat', 'library', 'libur', 'licin', 'life', 'lihat', 'likert', 'likewise', 'lima', 'limbah', 'limbik', 'limit', 'limpah', 'lindung', 'line', 'linear', 'lingkung', 'lingkup', 'linguistik', 'linier', 'linieritas', 'link', 'linkage', 'linking', 'linstone', 'lintas', 'lippo', 'liput', 'liputancom', 'liquiditas', 'lisensi', 'list', 'listening', 'listrik', 'literatur', 'literature', 'literaturliteratur', 'live', 'ller', 'loaksi', 'loannpl', 'loaski', 'lobster', 'localization', 'locater', 'location', 'locationbased', 'locked', 'log', 'logic', 'logika', 'login', 'logis', 'logistik', 'logitech', 'logout', 'lokal', 'lokas', 'lokasi', 'loker', 'loket', 'lolos', 'lomba', 'long', 'lose', 'loss', 'losses', 'lot', 'lovebird', 'low', 'lowong', 'loyalitas', 'lpg', 'lpj', 'lpm', 'lsb', 'lsrl', 'ltoys', 'luamajang', 'luar', 'luas', 'lubang', 'luhur', 'lulu', 'lulus', 'lumajang', 'lunak', 'luncur', 'lupa', 'luput', 'lurah', 'lurus', 'lus', 'luther', 'luturlean', 'lvq', 'lycosa', 'm', 'ma', 'maag', 'mabuk', 'macam', 'macammacam', 'macan', 'macang', 'macarina', 'macaroni', 'macaroninya', 'macet', 'machine', 'mad', 'mada', 'made', 'madm', 'madura', 'mae', 'magang', 'magister', 'mahal', 'maharsi', 'mahasiswa', 'mahasiswauniversitas', 'mahir', 'main', 'maintenance', 'maintenancepenerapan', 'majelis', 'maju', 'maka', 'makan', 'makelar', 'makhluk', 'makin', 'making', 'makmur', 'makna', 'maksimal', 'maksimum', 'maksud', 'malakukan', 'malam', 'malang', 'malangkab', 'malangkabgoid', 'mall', 'mamdani', 'mampu', 'man', 'mana', 'managed', 'managemen', 'management', 'manager', 'manajemen', 'manajement', 'manajer', 'manajermen', 'mancanegara', 'mandi', 'mandiri', 'manfaat', 'manfaatmanfaat', 'manghasilkan', 'mangkas', 'mangkat', 'mangli', 'mangrove', 'manifestation', 'manipulasi', 'manis', 'manja', 'manternach', 'manual', 'manualdari', 'manually', 'manualselain', 'manufactur', 'manufaktur', 'manusia', 'map', 'mape', 'maps', 'marak', 'marching', 'maret', 'marga', 'marginal', 'markas', 'marker', 'market', 'marketindo', 'marketing', 'marketplace', 'markup', 'mart', 'martingale', 'maryani', 'mas', 'masa', 'masakan', 'masalah', 'masalahmasalah', 'masih', 'masiih', 'masing', 'masingmasing', 'massa', 'master', 'mastrip', 'masuk', 'masyarakat', 'mata', 'matahari', 'matakuliah', 'matang', 'match', 'matching', 'matematika', 'matematis', 'materi', 'material', 'mati', 'matrik', 'matriks', 'matrix', 'maturity', 'mau', 'maulana', 'maupun', 'maupunkuantitassangat', 'max', 'maxx', 'maya', 'mayoritas', 'mays', 'mb', 'mbr', 'mcash', 'mcdm', 'mcfarlan', 'mclean', 'mcommerce', 'md', 'mda', 'mdi', 'me', 'mean', 'measurement', 'meberi', 'mechanics', 'media', 'medik', 'medika', 'medis', 'meepo', 'meeti', 'megantisipasi', 'megembangkan', 'mei', 'meja', 'mejadi', 'mekanik', 'mekanisme', 'mekcik', 'melakuakan', 'melaui', 'melinjo', 'mem', 'memainkanya', 'memaintain', 'memanage', 'memanejemen', 'memang', 'membauat', 'member', 'membran', 'membudidayakan', 'memenajemen', 'memenuhitidak', 'memggunakan', 'memilki', 'meminimalisir', 'memliki', 'memoderasi', 'memonitoring', 'memuwujudkan', 'memvalidasi', 'menang', 'menberikan', 'mendiagnosa', 'mendiknas', 'menejemen', 'menentuka', 'menetukan', 'mengajarmembimbing', 'mengaktifasi', 'menganalisa', 'mengaopsi', 'mengapa', 'mengefesiensi', 'mengembalakan', 'mengembangbiakkan', 'mengestrak', 'menggukan', 'menggunaka', 'menggunanakan', 'menggunggah', 'menghadapai', 'menghasilka', 'mengimplenentasikan', 'menginputkan', 'menginstall', 'mengintregasikan', 'mengirangira', 'mengitegrasikan', 'mengoptimasi', 'mengunakan', 'menindaklanjuti', 'menitikberatkan', 'menochilus', 'menoptimalkan', 'mensortasi', 'mensubtitusi', 'mental', 'menteri', 'menu', 'menujukkan', 'menunggunakan', 'menyebarluaskan', 'merah', 'meramalakan', 'merang', 'merchant', 'merek', 'mereka', 'meri', 'merk', 'merta', 'meru', 'meruapakan', 'merupaka', 'mes', 'mesak', 'mesan', 'mesin', 'meski', 'message', 'messi', 'meta', 'metabolisme', 'meter', 'method', 'methods', 'metode', 'metodesafety', 'metodologi', 'meubel', 'meyebarluaskan', 'mfn', 'mg', 'mgml', 'microaneurysm', 'microsoft', 'microvaskular', 'middle', 'midle', 'mie', 'mikro', 'mikrokontroler', 'mikrokontroller', 'milik', 'militer', 'millitus', 'minat', 'mineral', 'minggu', 'mini', 'minim', 'minimal', 'minimalist', 'minimarket', 'minimum', 'mining', 'miningxt', 'minor', 'minta', 'minum', 'minyak', 'minyk', 'miring', 'mirip', 'misal', 'misi', 'miskin', 'mississippi', 'mitigasi', 'mitm', 'mitra', 'mix', 'mkn', 'ml', 'mlearning', 'mngelola', 'mobil', 'mobile', 'mocaf', 'moch', 'modal', 'model', 'modeling', 'modelling', 'models', 'moderator', 'modern', 'modified', 'modifikasi', 'modul', 'mogok', 'moh', 'mohon', 'molekul', 'moment', 'mondel', 'monetary', 'moni', 'monitoring', 'monoton', 'moodle', 'moralitas', 'morbidibitas', 'more', 'mortalitas', 'mortem', 'most', 'motif', 'motivasi', 'motode', 'motor', 'motorik', 'movienthusiast', 'moving', 'mp', 'mpm', 'mpoin', 'mrnggunakan', 'mrp', 'msi', 'mtoken', 'mu', 'muas', 'muat', 'muda', 'mudah', 'mudik', 'muhammad', 'muka', 'mukim', 'mula', 'mulai', 'mulia', 'multi', 'multiagro', 'multiatribut', 'multiattribute', 'multikriteria', 'multimedia', 'multiple', 'multy', 'mulus', 'mulut', 'muncar', 'muncul', 'mungkin', 'murah', 'murni', 'murphy', 'music', 'musim', 'muslim', 'muslimin', 'mustafid', 'mustofa', 'mutakhir', 'mutasi', 'muthohhari', 'mutlak', 'mutu', 'mw', 'mycobacterium', 'mysql', 'n', 'na', 'nadia', 'nafilla', 'naga', 'naif', 'naik', 'naive', 'nalar', 'nali', 'nama', 'namun', 'nang', 'nanti', 'napas', 'narahubung', 'narasumber', 'nasabah', 'nasional', 'naskah', 'nation', 'nations', 'natkat', 'nature', 'naufal', 'naung', 'navigasi', 'navigation', 'ncf', 'nd', 'needed', 'needs', 'neg', 'negara', 'negaranegara', 'negatif', 'negative', 'negera', 'negeri', 'negpengklasifikasian', 'neighbor', 'neighor', 'nelayan', 'nella', 'neo', 'neraca', 'net', 'netra', 'netralisir', 'network', 'networking', 'networks', 'neural', 'neurobion', 'next', 'ng', 'ngunut', 'niat', 'nihayatus', 'nikmat', 'nila', 'nilai', 'nilainilai', 'nilia', 'nisaa', 'nissan', 'no', 'nol', 'nomor', 'non', 'nonadditive', 'nonakademik', 'nonfinansial', 'nonfisik', 'nonformal', 'nonfungsional', 'nongame', 'nonlinear', 'nonperforming', 'nonperfusion', 'normal', 'normalisasi', 'normalitas', 'not', 'notabene', 'notaris', 'notasi', 'notifikasi', 'november', 'now', 'npk', 'npl', 'npv', 'nsf', 'nugraha', 'nugrahani', 'nugroho', 'number', 'numbers', 'nun', 'nur', 'nurani', 'nusantara', 'nutrisi', 'nya', 'nyaman', 'nyaring', 'nyata', 'nyawa', 'o', 'obat', 'obatobatan', 'obesitas', 'object', 'objective', 'objectives', 'objek', 'objektif', 'observasi', 'observasional', 'obtain', 'obtained', 'obyek', 'obyeknyaterdiri', 'occupant', 'occur', 'occurs', 'octave', 'of', 'offline', 'ojek', 'oktober', 'olah', 'olahraga', 'olap', 'oleh', 'oleholeh', 'olimpiade', 'omax', 'ombak', 'omset', 'on', 'one', 'online', 'onlline', 'oo', 'ood', 'oogst', 'oop', 'opd', 'operasi', 'operasional', 'operation', 'operationally', 'operator', 'opini', 'opiniopini', 'oppo', 'optimal', 'optimalisasi', 'optimasi', 'optimism', 'optimization', 'optimizing', 'orang', 'orangorang', 'orangtua', 'order', 'organik', 'organisasi', 'organisasional', 'organisir', 'organization', 'orientasi', 'oriented', 'orl', 'ormawa', 'orongorong', 'osaimi', 'osis', 'osn', 'osticket', 'otak', 'otentikasi', 'other', 'others', 'otomatis', 'otomatisasi', 'otomotif', 'otoritas', 'otot', 'otp', 'outlet', 'outletoutlet', 'output', 'outranking', 'over', 'overhead', 'overlay', 'ovo', 'owner', 'p', 'pabrik', 'pacdin', 'pacitan', 'pacu', 'pada', 'padahal', 'padat', 'padi', 'padipadian', 'padu', 'page', 'pagi', 'paguyuban', 'paham', 'pahit', 'pahlawan', 'pajajaran', 'pajak', 'pakai', 'pakaja', 'pakan', 'pakar', 'paket', 'paksa', 'pakusari', 'palang', 'palgiat', 'paling', 'pam', 'pamekasan', 'pamer', 'pamflet', 'panas', 'panasia', 'pandai', 'pandang', 'pandemi', 'pandu', 'panen', 'pangan', 'panggil', 'panggung', 'pangkal', 'pangkat', 'pangkatjabatan', 'pangsa', 'panitia', 'panjang', 'panrb', 'pant', 'pantai', 'pantas', 'pantau', 'panti', 'papan', 'papar', 'para', 'paracetamol', 'paradigma', 'paradox', 'parah', 'parameter', 'parameterparameter', 'parasuraman', 'pariwisata', 'park', 'parkir', 'part', 'partisipan', 'partisipasi', 'paru', 'pasal', 'pasang', 'pasar', 'pasca', 'pasien', 'pasif', 'pasir', 'pasirian', 'pasok', 'passing', 'password', 'paste', 'pasti', 'pasture', 'pasu', 'pasuk', 'pasuruan', 'patah', 'pati', 'patirana', 'patok', 'patrang', 'pattaya', 'pattern', 'patuh', 'payback', 'payment', 'pb', 'pdam', 'pdf', 'pdfpdf', 'pdsm', 'pe', 'pealayan', 'peat', 'pecah', 'pecel', 'peda', 'pedoman', 'peduli', 'pegang', 'pegawai', 'pegipegi', 'pejal', 'pekan', 'pelaksanaannaya', 'pelang', 'pelayananan', 'pelihara', 'peluang', 'pemakain', 'pembelimakelar', 'pembentu', 'pemberitahuan', 'pembuatanya', 'pembudidaya', 'pembuluhpembuluh', 'pemeritahan', 'pemgiriman', 'pemhasalahan', 'pemkab', 'pemograman', 'pempek', 'pemprograman', 'pemprosesan', 'pemrograman', 'pemrosesan', 'pen', 'penaanganan', 'penanganganan', 'penatausahaan', 'penaykit', 'pencaraian', 'pencayahaan', 'pencil', 'pendaptan', 'pendek', 'pendidikanpemerintahan', 'penditribusian', 'penelitain', 'penelitan', 'penelitianpenelitian', 'penellitian', 'peneltiain', 'penentuanrekomendasi', 'penentun', 'penetrasi', 'penetuan', 'pengahasil', 'pengaruh', 'pengaruhpengaruh', 'pengeleloaan', 'pengelolahan', 'pengelolan', 'pengembangbiakan', 'pengepulpengepul', 'penggunaa', 'penggunaanya', 'penggunafaktor', 'penggunakaan', 'penggunanaan', 'penggunananya', 'penginputan', 'pengujan', 'peningkatanpencegahanpenyembuhan', 'penjulan', 'penlitian', 'pentahapan', 'penting', 'penuh', 'penyakitpenyakit', 'people', 'pepaya', 'peppard', 'peptida', 'per', 'perabot', 'peran', 'perangkat', 'perankingan', 'perata', 'perbaikanterlebih', 'perban', 'perbup', 'percaya', 'perceived', 'percentage', 'perempuan', 'perfoemance', 'performa', 'performance', 'performansi', 'performed', 'perhati', 'perhituangan', 'perhitumngan', 'perhitunganperhitungan', 'periksa', 'perilaku', 'peringkat', 'perintah', 'period', 'periode', 'periodik', 'perlu', 'permasalahanpermasalahan', 'permasalahn', 'permata', 'permenkominfo', 'permohononan', 'pernah', 'peroses', 'perpakiran', 'perpusatakaan', 'perpustkaan', 'perputakaan', 'pers', 'persediaaan', 'persen', 'persentase', 'persepsi', 'persero', 'persis', 'person', 'personal', 'perspektif', 'pertama', 'pertanggungjawaban', 'pertanianperkebunan', 'pertimbanganpertimbangan', 'perubahanperubahan', 'perusajaan', 'perushaan', 'perustakaan', 'perut', 'pes', 'pesan', 'pesat', 'pesawat', 'pesisir', 'peta', 'petunjukpetunjuk', 'peubah', 'peyelenggaraan', 'pg', 'pgi', 'pgpusat', 'phbs', 'phone', 'php', 'pia', 'picu', 'pihak', 'pihakpihak', 'pijar', 'pikir', 'piksel', 'pilah', 'pilar', 'pilih', 'pilkada', 'pimpin', 'pindah', 'pindidikan', 'pinggir', 'pinjam', 'pintar', 'pip', 'pisah', 'pisang', 'piutang', 'pkm', 'plagiarisme', 'plain', 'plaintkes', 'planning', 'plant', 'plantation', 'platform', 'play', 'pln', 'plotting', 'plus', 'pmapper', 'pmi', 'pneumonia', 'pns', 'po', 'poerwanto', 'pohon', 'poin', 'point', 'points', 'pokok', 'pol', 'pola', 'polentepung', 'polisi', 'politik', 'polres', 'pondok', 'ponsel', 'popular', 'populasi', 'populer', 'poq', 'porsi', 'portal', 'portfolio', 'portofolio', 'posisi', 'positf', 'positif', 'positioning', 'post', 'poster', 'posting', 'postur', 'posyandu', 'potensi', 'potensial', 'potong', 'povinsi', 'pp', 'ppa', 'ppat', 'ppid', 'ppmi', 'pr', 'praatice', 'prabowo', 'practice', 'practices', 'praktek', 'praktik', 'praktikum', 'praktis', 'praktisi', 'prasarana', 'pratama', 'prawawancara', 'pre', 'precision', 'precison', 'precission', 'predator', 'predetermined', 'predikat', 'prediksi', 'prediktor', 'preference', 'preferensi', 'preferensipaling', 'preferensiuntuk', 'premium', 'preprocessing', 'preprocessor', 'presensi', 'presensikehadiran', 'presentase', 'presentasi', 'presepsi', 'presiden', 'pression', 'prestasi', 'prevention', 'previous', 'prhitungan', 'pribadi', 'price', 'prihati', 'prima', 'primadona', 'primer', 'prinsip', 'prinsipprinsip', 'print', 'prioritas', 'privacy', 'privat', 'private', 'prix', 'probabilistik', 'probabilitas', 'probability', 'problem', 'problematika', 'probolinggo', 'proccces', 'process', 'processed', 'processes', 'processing', 'processor', 'produce', 'product', 'production', 'productivity', 'products', 'produk', 'produkproduk', 'produksi', 'produktif', 'produktivitas', 'produsen', 'profesi', 'profesional', 'profil', 'profile', 'profilenya', 'profit', 'proftiabilitas', 'program', 'programmer', 'programming', 'programprogram', 'project', 'prol', 'proll', 'promethee', 'promosi', 'promthee', 'properti', 'proporsi', 'proposal', 'proscess', 'prosective', 'prosedur', 'prosedural', 'prosedurprosedur', 'prosenda', 'prosentase', 'proses', 'prosesproses', 'prosiding', 'prospective', 'prospektif', 'protein', 'protokol', 'prototipe', 'prototype', 'prototyping', 'protoyipe', 'provinsi', 'proyek', 'proyeksi', 'prudential', 'psikolog', 'psikologi', 'psikologis', 'psikososial', 'psikotes', 'psm', 'pssistem', 'pstw', 'pt', 'ptn', 'ptpln', 'ptpn', 'ptwom', 'pu', 'puas', 'puasa', 'public', 'publik', 'publikasi', 'pucaking', 'puger', 'pukul', 'pula', 'pulang', 'pulau', 'pulih', 'pullet', 'pulp', 'puluh', 'pun', 'punah', 'puncak', 'punggung', 'punya', 'pupuk', 'pura', 'purnaa', 'purnama', 'purposive', 'purwanto', 'pusat', 'pusatpusat', 'push', 'puskesmas', 'puspita', 'pustaka', 'putar', 'putera', 'putra', 'putus', 'pvalue', 'pyj', 'pzj', 'q', 'qm', 'qr', 'qrcode', 'qspm', 'quality', 'quantity', 'quantization', 'query', 'question', 'quick', 'quotient', 'r', 'rabun', 'raci', 'racik', 'rad', 'radio', 'ragam', 'rahardjo', 'raharja', 'rahasia', 'rahsia', 'raih', 'rakyat', 'ramada', 'ramai', 'ramal', 'rambah', 'rambipuji', 'rancang', 'rang', 'range', 'rangka', 'rangking', 'rangsang', 'rank', 'ranking', 'ranks', 'rantai', 'ranu', 'rapat', 'rapi', 'rapid', 'rapor', 'raport', 'rasa', 'rasio', 'rasiorasio', 'rata', 'ratarata', 'rataratanya', 'rate', 'rather', 'rating', 'ratings', 'ratio', 'ratna', 'ratting', 'ratus', 'rawan', 'rawat', 'rawit', 'raya', 'rayon', 'rbv', 'rd', 're', 'readernya', 'readiness', 'reading', 'ready', 'reagen', 'real', 'realisasi', 'realita', 'realitas', 'reality', 'realtime', 'rebut', 'recall', 'recency', 'recognition', 'recognize', 'recognized', 'record', 'recording', 'recovers', 'redaksi', 'redclaw', 'redrying', 'reduction', 'referensi', 'reg', 'regency', 'regex', 'region', 'regional', 'register', 'registrasi', 'regresi', 'regression', 'regular', 'reguler', 'rehabilitasi', 'rejeki', 'rekam', 'rekan', 'rekap', 'rekapitulasi', 'rekening', 'reklame', 'rekomedasi', 'rekomendasi', 'rekrut', 'rektor', 'relas', 'related', 'relatif', 'relationship', 'relative', 'relevan', 'reliabel', 'reliabilitas', 'reliability', 'relibilitas', 'removal', 'rena', 'renang', 'rencana', 'renda', 'rendah', 'rendang', 'rendy', 'rental', 'rentan', 'rentang', 'reorganisasi', 'repitisi', 'replacement', 'repot', 'repotrepot', 'representasi', 'republik', 'request', 'requirement', 'requirements', 'rescue', 'research', 'residen', 'resiko', 'resmi', 'resort', 'resource', 'respon', 'responden', 'response', 'responsibilitias', 'responsiveness', 'responsivitas', 'restock', 'restoran', 'restructuring', 'result', 'results', 'retail', 'retina', 'retinopathy', 'retrieval', 'retrofit', 'return', 'reuni', 'reverse', 'review', 'reviewer', 'reviewers', 'reward', 'rfid', 'rfm', 'rgb', 'ri', 'ribu', 'ridwan', 'riil', 'rijndael', 'rilis', 'rill', 'rinci', 'rincian', 'rindra', 'ringan', 'risa', 'riset', 'risi', 'risiko', 'risk', 'ritel', 'riwayat', 'rizka', 'rizqi', 'rka', 'rkpd', 'roasting', 'robusta', 'roda', 'rohani', 'rohmatul', 'roi', 'rokok', 'rolas', 'rolla', 'rontgen', 'root', 'rop', 'rotchanakitumnuai', 'roti', 'router', 'row', 'rowotengah', 'roy', 'royanto', 'rp', 'rreeppoossiittoorryy', 'rs', 'rsa', 'rsu', 'ruang', 'ruas', 'ruasruas', 'rubah', 'ruf', 'rugi', 'ruh', 'rujak', 'rujuk', 'rukun', 'rule', 'rules', 'rumah', 'rumit', 'rumpun', 'rumus', 'run', 'runut', 'rupa', 'rupiah', 'rurut', 'rusa', 'rusak', 'rute', 'rutin', 'rutinitas', 'ryan', 's', 'saat', 'sabtu', 'sabun', 'sadar', 'safety', 'safia', 'sagala', 'sagu', 'saham', 'sahata', 'said', 'saidi', 'saif', 'saing', 'sains', 'saja', 'saji', 'saki', 'sakit', 'saksi', 'salah', 'saldo', 'sales', 'salin', 'saling', 'salon', 'salsabila', 'salur', 'sama', 'samah', 'samapai', 'samar', 'samarsamar', 'samasama', 'samasekali', 'sambung', 'sampah', 'sampai', 'sampel', 'samping', 'sample', 'sampling', 'samsung', 'samudra', 'sana', 'sandang', 'sandi', 'sandiaga', 'sang', 'sangat', 'sangga', 'sangkut', 'sanitation', 'sapi', 'saprodi', 'sar', 'saraf', 'saran', 'sarana', 'sarat', 'sari', 'sarjana', 'sas', 'sasar', 'sate', 'satelit', 'satisfaction', 'satisfied', 'satle', 'satu', 'saturasi', 'satwa', 'saudara', 'sausages', 'savana', 'saving', 'saw', 'sawah', 'sayang', 'sayup', 'sayur', 'sayurmayur', 'sbmptn', 'scale', 'scan', 'scenario', 'scheme', 'school', 'score', 'scorecard', 'scores', 'scraping', 'screen', 'sd', 'sdlc', 'sdm', 'sdn', 'sdspage', 'sdss', 'search', 'sebaai', 'sebab', 'sebanyakbanyaknya', 'sebar', 'sebelas', 'sebelumya', 'sebesarbesarnya', 'sebut', 'secondary', 'sectional', 'sector', 'sedang', 'sedemikianrupa', 'sederhana', 'sedia', 'sedikit', 'seek', 'segala', 'segenap', 'segera', 'segi', 'segmen', 'segmentasi', 'segregation', 'seharihari', 'sehariharinya', 'sehat', 'sehingga', 'sejahtera', 'sejahterah', 'sejak', 'sekali', 'sekaligus', 'sekarang', 'sekian', 'sekitar', 'seko', 'sekolah', 'sekretariat', 'sekretaris', 'sektor', 'sekunder', 'sel', 'selain', 'selaku', 'selalu', 'selamat', 'selaras', 'selat', 'selatan', 'seleksi', 'selektif', 'selenggara', 'selesai', 'seleweng', 'selisih', 'selling', 'seluler', 'seluruh', 'sem', 'semata', 'sembaphd', 'sembarang', 'sembilan', 'semboro', 'sembuh', 'sembunyi', 'semen', 'semester', 'semgesca', 'semi', 'semifinished', 'seminar', 'semiterstruktur', 'sempat', 'sempit', 'sempro', 'sempurna', 'semua', 'senang', 'senantiasa', 'senayan', 'sendat', 'sendiri', 'sendiripenentuan', 'sendirisehingga', 'senduro', 'seng', 'senggang', 'seni', 'senin', 'senjang', 'sensitif', 'sensitifitas', 'sensitivitas', 'sensor', 'sentimen', 'sentiment', 'sentra', 'senyum', 'sepakat', 'sepeda', 'sepenuh', 'seperti', 'september', 'serah', 'serang', 'serangga', 'serap', 'serba', 'serbuk', 'serdos', 'serentak', 'series', 'sering', 'seringkali', 'serious', 'serius', 'serta', 'sertasarana', 'sertifikasi', 'server', 'service', 'services', 'servis', 'servqual', 'sesat', 'sesi', 'sesuai', 'sesuaimemuaskan', 'sesuatu', 'set', 'seta', 'setia', 'setiah', 'setiawan', 'setiyawati', 'setor', 'setsecara', 'setting', 'seven', 'severity', 'sewa', 'sexmaculatus', 'sfs', 'sg', 'sh', 'shanghai', 'shidik', 'shop', 'shopee', 'shopintar', 'show', 'showroom', 'shuffle', 'si', 'siabka', 'siaga', 'siap', 'siapa', 'siapasn', 'siasia', 'sibuk', 'sidang', 'sideways', 'sidoarjo', 'sidogiri', 'sidomulyo', 'sie', 'sifat', 'sift', 'sig', 'sigaret', 'sigifikansi', 'sign', 'signfikan', 'significant', 'signifikan', 'signifikansi', 'sihwi', 'sikap', 'sikd', 'siklomatik', 'siklus', 'sikpe', 'siku', 'silabus', 'silo', 'silp', 'sim', 'simanik', 'simda', 'simetris', 'similarity', 'simpan', 'simpang', 'simple', 'simpuk', 'simpul', 'simrs', 'simulasi', 'simulation', 'sinambung', 'sinar', 'since', 'sinergi', 'singapura', 'singkat', 'singkong', 'single', 'sini', 'sinode', 'sinopsis', 'sintetik', 'sintorini', 'sinyal', 'sip', 'sipentaru', 'sipil', 'siplho', 'sippd', 'siram', 'sirenbang', 'siriluck', 'sisa', 'sisdiknas', 'sisi', 'sisip', 'sistem', 'sistematis', 'sister', 'sistim', 'siswa', 'siswasiswi', 'sitem', 'siti', 'sitt', 'situ', 'situasi', 'situbondo', 'situbondopromethee', 'situs', 'situssitus', 'sivitas', 'size', 'sizing', 'skala', 'skck', 'skenario', 'skill', 'skills', 'skm', 'skor', 'skp', 'skpd', 'skpi', 'skripsi', 'skt', 'slaty', 'slb', 'slims', 'slow', 'slowly', 'sma', 'sman', 'smansamore', 'smart', 'smarter', 'smarthphone', 'smartphone', 'smartpls', 'smc', 'smkn', 'smoothing', 'smooting', 'smp', 'smpn', 'sms', 'smu', 'sni', 'so', 'soal', 'soalsoal', 'social', 'soebandi', 'soft', 'software', 'soil', 'solusi', 'solution', 'songs', 'sony', 'sop', 'sopir', 'sortasi', 'sorting', 'sosial', 'sosialisasi', 'soto', 'sp', 'space', 'spare', 'spasial', 'spbe', 'spbu', 'spd', 'specifically', 'spektofotometer', 'spektrofotometer', 'spesialis', 'spesies', 'spesifik', 'spesifikasi', 'spiritual', 'spiritualitas', 'spk', 'spkt', 'sponsor', 'spot', 'spp', 'sppbe', 'spps', 'spreading', 'spss', 'square', 'sr', 'srategi', 'ssad', 'sse', 'sso', 'stabil', 'staf', 'staff', 'stage', 'stages', 'staj', 'stakeholder', 'stand', 'standar', 'standard', 'standards', 'standart', 'star', 'startegi', 'startegis', 'starting', 'stasioner', 'stasiun', 'state', 'statis', 'statistics', 'statistik', 'statistika', 'status', 'steganografi', 'stemming', 'still', 'stnk', 'stock', 'stockdigunakan', 'stockouts', 'stok', 'stop', 'stope', 'stopword', 'store', 'story', 'strata', 'strategi', 'strategic', 'strategis', 'strategistrategi', 'strategy', 'strauss', 'streaming', 'stres', 'structural', 'structure', 'structured', 'struktur', 'student', 'students', 'studi', 'studio', 'study', 'suami', 'suara', 'suarasuara', 'suasana', 'suatu', 'sub', 'subbidang', 'subelemen', 'subjektif', 'subjektifitas', 'subkontraktor', 'subkriteria', 'submit', 'subniai', 'subsektor', 'subsidi', 'subsub', 'subsubtema', 'subtema', 'subtil', 'subtour', 'subur', 'subyek', 'subyektif', 'subyektifitas', 'succesive', 'success', 'such', 'sudah', 'sudirman', 'sudut', 'suhartono', 'suhendi', 'suhu', 'suka', 'sukarela', 'sukarelacara', 'sukorambi', 'sukowono', 'sukses', 'suku', 'sulang', 'suling', 'sulit', 'sum', 'sumbat', 'sumber', 'sumberdaya', 'sumbersari', 'sumberwaru', 'sumbu', 'sung', 'sungai', 'sungguh', 'suparto', 'super', 'supermarket', 'supir', 'suplai', 'suplier', 'supplier', 'supplierdata', 'supply', 'support', 'surabaya', 'surat', 'suratsurat', 'surut', 'survei', 'survey', 'surveyor', 'surya', 'susah', 'susu', 'susun', 'susut', 'sutm', 'suyanto', 'swamedikasi', 'swasta', 'swot', 'syaraf', 'syarat', 'syaratsyarat', 'syariah', 'syntetic', 'system', 'systems', 't', 'tabel', 'tables', 'tabung', 'tadi', 'tag', 'tagih', 'tahan', 'tahap', 'tahapantahapan', 'tahu', 'tahun', 'tahuntahun', 'tajam', 'tak', 'takes', 'taksir', 'tam', 'tamak', 'taman', 'tambah', 'tambak', 'tambal', 'tampak', 'tampil', 'tampung', 'tamtama', 'tanah', 'tanam', 'tanda', 'tangan', 'tangap', 'tangga', 'tanggal', 'tanggap', 'tanggulang', 'tanggung', 'tanggungjawab', 'tangibles', 'tangkap', 'tangki', 'tani', 'tanpa', 'tantang', 'tanya', 'tapak', 'tape', 'tara', 'taraf', 'target', 'tari', 'tarik', 'taro', 'tarung', 'tasks', 'tata', 'tatap', 'taufik', 'tawar', 'tayang', 'tb', 'tbc', 'tbk', 'tbn', 'te', 'tebak', 'tebas', 'tebu', 'technique', 'techniquesmart', 'techno', 'technology', 'tediri', 'teduh', 'teeth', 'tegal', 'tegang', 'tegas', 'tegihan', 'teh', 'tehadap', 'tekan', 'tekateki', 'tekhnologi', 'teknik', 'teknikal', 'teknis', 'teknisi', 'teknolgi', 'teknologi', 'teks', 'tekstual', 'tekun', 'telah', 'telebih', 'telekmonukiasi', 'telekomunikasi', 'telephone', 'telepon', 'telepresemce', 'telepresence', 'televisi', 'teliti', 'telkomsel', 'teller', 'telur', 'telusur', 'tema', 'teman', 'tembakau', 'tembus', 'tempat', 'tempattempat', 'tempe', 'tempuh', 'tempur', 'temu', 'tenaga', 'tenfold', 'tengah', 'tenggang', 'tenggara', 'tengik', 'tensimeter', 'tentara', 'tentu', 'teo', 'teorema', 'teori', 'tepadu', 'tepat', 'tepung', 'tera', 'terahir', 'terampil', 'terang', 'terap', 'terbit', 'tercata', 'tereksplor', 'tergbung', 'terhadao', 'terhdap', 'teridiri', 'terima', 'terindentifikasi', 'terjemah', 'terkadang', 'terlalu', 'term', 'terminal', 'terna', 'ternak', 'terorganisisir', 'terpa', 'tersrbut', 'tertib', 'terus', 'tes', 'tesknologi', 'test', 'testing', 'tetak', 'tetangga', 'tetap', 'tetapi', 'tetes', 'text', 'textmining', 'tfidf', 'th', 'thailand', 'than', 'that', 'the', 'thematic', 'then', 'theobroma', 'theory', 'there', 'therefore', 'thermovision', 'third', 'this', 'thitung', 'threat', 'threshold', 'through', 'ti', 'tiada', 'tiang', 'tiap', 'tiaptiap', 'tibatiba', 'tidak', 'tidur', 'tifoid', 'tiga', 'tik', 'tiket', 'tilaar', 'tim', 'timbang', 'timbul', 'timbun', 'time', 'timeframe', 'timeliness', 'timeout', 'timer', 'timestamp', 'timur', 'tindak', 'tinggal', 'tinggi', 'tingkah', 'tingkat', 'tinjau', 'tip', 'tipe', 'tiru', 'titik', 'titiktitik', 'tjm', 'tk', 'tksd', 'tnb', 'tni', 'to', 'tobacco', 'toefl', 'toga', 'tok', 'tokenizing', 'toko', 'tokopedia', 'tokpedia', 'tolak', 'tolok', 'tolong', 'tombol', 'ton', 'tonase', 'tondo', 'tool', 'tools', 'tooltips', 'topik', 'topsis', 'total', 'totp', 'tpa', 'tps', 'track', 'tracking', 'trade', 'tradisi', 'tradisional', 'traditional', 'traffic', 'trafo', 'training', 'tram', 'tranform', 'transaction', 'transaksi', 'transaksional', 'transform', 'transformasi', 'transformator', 'transfusi', 'transgenik', 'transisi', 'transkip', 'transkrip', 'transparan', 'transparansi', 'transponder', 'transport', 'transportasi', 'trasnportasi', 'trata', 'travel', 'traveloka', 'tren', 'trend', 'trending', 'trensistem', 'tri', 'trial', 'triangulasi', 'tribunnewscom', 'trio', 'triple', 'triwulan', 'tropis', 'truk', 'trust', 'tsukamoto', 'tsunami', 'ttabel', 'tua', 'tuawali', 'tuberculosis', 'tuberkulosis', 'tubuh', 'tugas', 'tugastugas', 'tugastugasnya', 'tuhan', 'tuju', 'tujuh', 'tukar', 'tulang', 'tular', 'tulis', 'tulungagung', 'tumbuh', 'tumpang', 'tumpu', 'tumpuk', 'tuna', 'tunagrahita', 'tunai', 'tunggal', 'tunggu', 'tunjang', 'tunjuk', 'tuntun', 'tuntut', 'turnamen', 'turonver', 'turun', 'turut', 'tutup', 'tw', 'tweet', 'tweetsebuah', 'tweettweet', 'twitter', 'two', 'twofish', 'u', 'uai', 'uan', 'uang', 'ubah', 'uc', 'ucd', 'ud', 'udang', 'udara', 'uddwidaku', 'udharapan', 'udputra', 'udsunan', 'udwalisongo', 'udwalisongousaha', 'ugt', 'ui', 'uiux', 'uji', 'ujung', 'ukbm', 'ukm', 'ukt', 'ukur', 'ulang', 'ulas', 'umber', 'umkm', 'umkmumkm', 'uml', 'umu', 'umum', 'umur', 'un', 'undangundang', 'under', 'unduh', 'unej', 'unggah', 'unggul', 'ungkap', 'uni', 'unified', 'unik', 'unit', 'univeritas', 'universitas', 'university', 'unjung', 'uno', 'unsur', 'unsurunsur', 'until', 'untuk', 'untung', 'unutk', 'up', 'upa', 'upahgaji', 'upaya', 'update', 'upitest', 'upload', 'upm', 'upsharing', 'upt', 'uptperpustakaan', 'uptti', 'upttik', 'urai', 'urus', 'urut', 'urutanurutan', 'usabiliity', 'usabilitas', 'usability', 'usage', 'usah', 'usaha', 'usahawan', 'use', 'used', 'usefulness', 'user', 'userinterface', 'userkonsumen', 'username', 'users', 'usia', 'using', 'usp', 'usually', 'usul', 'usung', 'utama', 'utang', 'utaut', 'utd', 'utilitas', 'utiliti', 'utility', 'utomo', 'utuk', 'utus', 'uu', 'uunneejj', 'uvpc', 'uvvis', 'ux', 'v', 'vaksin', 'valid', 'validasi', 'validation', 'validitas', 'validjumlah', 'valuation', 'value', 'values', 'variabel', 'variabelvariabel', 'variable', 'varian', 'variasi', 'varietas', 'vasodilatasi', 'vb', 've', 'vector', 'vehicle', 'vektor', 'ven', 'vena', 'verbal', 'verifikasi', 'versi', 'vertex', 'very', 'veteran', 'via', 'view', 'vii', 'viii', 'village', 'virtual', 'virus', 'visi', 'visibility', 'vision', 'visionix', 'visual', 'visualfoxpro', 'visualisasi', 'visuals', 'vit', 'vital', 'vitamin', 'volcano', 'volume', 'voluntariness', 'vorstenlanden', 'voucher', 'vsm', 'vulnerability', 'w', 'wabah', 'wadah', 'waerfall', 'wahana', 'wajah', 'wajib', 'wakil', 'waktu', 'walaupun', 'wali', 'walisongo', 'war', 'waralaba', 'ward', 'wardana', 'warehouse', 'warga', 'warganet', 'waris', 'warna', 'warnawarna', 'warning', 'warung', 'waspo', 'waste', 'waterfall', 'watt', 'wawancara', 'wawas', 'way', 'ways', 'we', 'web', 'webcam', 'weber', 'webgis', 'webqual', 'website', 'websites', 'wedhasmara', 'weight', 'weighted', 'weighting', 'weights', 'weigthed', 'weka', 'well', 'weloveunej', 'wenang', 'western', 'wet', 'when', 'where', 'white', 'who', 'wib', 'wicaksono', 'widodo', 'widyastiti', 'widyatmoko', 'wijayanti', 'wilayah', 'wildan', 'will', 'willingness', 'windows', 'winter', 'wisata', 'wisatawan', 'with', 'wma', 'wojciechowski', 'wolipop', 'wom', 'wonojati', 'wood', 'work', 'worksheet', 'world', 'wp', 'wujud', 'wuruk', 'wwwdetikcom', 'wwwidxcoid', 'wwwkpriunejcom', 'wwwliputancom', 'wwwtribunnewscom', 'x', 'xenia', 'xi', 'xii', 'xj', 'xml', 'xor', 'xperia', 'xt', 'xviii', 'xx', 'xyz', 'y', 'ya', 'yag', 'yaitu', 'yakin', 'yakni', 'yale', 'yamane', 'yamin', 'yanag', 'yang', 'yangdibangun', 'yani', 'yates', 'yayang', 'yayasan', 'yayasasan', 'year', 'yes', 'yg', 'yi', 'yield', 'yj', 'youtube', 'yudhistira', 'yusa', 'yusof', 'yusuf', 'zainul', 'zaman', 'zat', 'zea', 'zenfone', 'zi', 'zj', 'zscore', 'zskor']\n"
     ]
    }
   ],
   "source": [
    "print(list_of_word)"
   ]
  },
  {
   "cell_type": "code",
   "execution_count": 12,
   "metadata": {},
   "outputs": [],
   "source": [
    "def create_term_frequency(list_of_word, length_of_document):\n",
    "    term_frequency = []\n",
    "    \n",
    "    for _ in range(length_of_document):\n",
    "        term_frequency.append(dict(zip(list_of_word, [0 for _ in range(len(list_of_word))])))\n",
    "    \n",
    "    return term_frequency"
   ]
  },
  {
   "cell_type": "code",
   "execution_count": 13,
   "metadata": {},
   "outputs": [],
   "source": [
    "term_frequency = create_term_frequency(list_of_word, length_of_document)"
   ]
  },
  {
   "cell_type": "code",
   "execution_count": 14,
   "metadata": {},
   "outputs": [],
   "source": [
    "def create_document_frequency(list_of_word):\n",
    "    return dict(zip(list_of_word, [0 for _ in range(len(list_of_word))]))"
   ]
  },
  {
   "cell_type": "code",
   "execution_count": 15,
   "metadata": {},
   "outputs": [],
   "source": [
    "for index, sentence in enumerate(data['Abstract Bersih']):\n",
    "    for word in sentence:\n",
    "        if word in term_frequency[index]:\n",
    "            term_frequency[index][word] += 1"
   ]
  },
  {
   "cell_type": "code",
   "execution_count": 16,
   "metadata": {},
   "outputs": [],
   "source": [
    "document_frequency = create_document_frequency(list_of_word)"
   ]
  },
  {
   "cell_type": "code",
   "execution_count": 17,
   "metadata": {},
   "outputs": [],
   "source": [
    "for index, sentence in enumerate(term_frequency):\n",
    "    for key, value in sentence.items():\n",
    "        if value:\n",
    "            document_frequency[key] += 1"
   ]
  },
  {
   "cell_type": "code",
   "execution_count": 18,
   "metadata": {},
   "outputs": [],
   "source": [
    "def get_d_df(length_of_document, document_frequency):\n",
    "    d_df = {}\n",
    "    for key, value in document_frequency.items():\n",
    "        d_df[key] = length_of_document / value\n",
    "    return d_df"
   ]
  },
  {
   "cell_type": "code",
   "execution_count": 19,
   "metadata": {},
   "outputs": [],
   "source": [
    "d_df = get_d_df(length_of_document, document_frequency)"
   ]
  },
  {
   "cell_type": "code",
   "execution_count": 37,
   "metadata": {},
   "outputs": [],
   "source": [
    "from math import log10"
   ]
  },
  {
   "cell_type": "code",
   "execution_count": 38,
   "metadata": {},
   "outputs": [],
   "source": [
    "def get_idf(d_df):\n",
    "    idf = {}\n",
    "    for key, value in d_df.items():\n",
    "        idf[key] = round(log10(value), 3)\n",
    "    return idf"
   ]
  },
  {
   "cell_type": "code",
   "execution_count": 39,
   "metadata": {},
   "outputs": [],
   "source": [
    "idf = get_idf(d_df)"
   ]
  },
  {
   "cell_type": "code",
   "execution_count": 41,
   "metadata": {},
   "outputs": [],
   "source": [
    "def get_w_q_t(term_frequency, idf):\n",
    "    w_q_t = []\n",
    "    for index, document in enumerate(term_frequency):\n",
    "        w_q_t.append({})\n",
    "        for key, value in document.items():\n",
    "            w_q_t[index][key] = value * idf[key]\n",
    "    return w_q_t"
   ]
  },
  {
   "cell_type": "code",
   "execution_count": 42,
   "metadata": {},
   "outputs": [],
   "source": [
    "w_q_t = get_w_q_t(term_frequency, idf)"
   ]
  },
  {
   "cell_type": "code",
   "execution_count": 47,
   "metadata": {},
   "outputs": [],
   "source": [
    "datas = pd.DataFrame(w_q_t)"
   ]
  },
  {
   "cell_type": "code",
   "execution_count": 49,
   "metadata": {},
   "outputs": [
    {
     "data": {
      "text/html": [
       "<div>\n",
       "<style scoped>\n",
       "    .dataframe tbody tr th:only-of-type {\n",
       "        vertical-align: middle;\n",
       "    }\n",
       "\n",
       "    .dataframe tbody tr th {\n",
       "        vertical-align: top;\n",
       "    }\n",
       "\n",
       "    .dataframe thead th {\n",
       "        text-align: right;\n",
       "    }\n",
       "</style>\n",
       "<table border=\"1\" class=\"dataframe\">\n",
       "  <thead>\n",
       "    <tr style=\"text-align: right;\">\n",
       "      <th></th>\n",
       "      <th>goatzilla</th>\n",
       "      <th>farm</th>\n",
       "      <th>ada</th>\n",
       "      <th>senduro</th>\n",
       "      <th>kabupaten</th>\n",
       "      <th>lumajang</th>\n",
       "      <th>salah</th>\n",
       "      <th>satu</th>\n",
       "      <th>usaha</th>\n",
       "      <th>agroindustri</th>\n",
       "      <th>...</th>\n",
       "      <th>thermovision</th>\n",
       "      <th>layer</th>\n",
       "      <th>tiang</th>\n",
       "      <th>sutm</th>\n",
       "      <th>kapling</th>\n",
       "      <th>attribut</th>\n",
       "      <th>menghasilka</th>\n",
       "      <th>export</th>\n",
       "      <th>pdf</th>\n",
       "      <th>csv</th>\n",
       "    </tr>\n",
       "  </thead>\n",
       "  <tbody>\n",
       "    <tr>\n",
       "      <th>0</th>\n",
       "      <td>31.224</td>\n",
       "      <td>23.418</td>\n",
       "      <td>2.934</td>\n",
       "      <td>7.806</td>\n",
       "      <td>1.887</td>\n",
       "      <td>4.944</td>\n",
       "      <td>0.852</td>\n",
       "      <td>1.584</td>\n",
       "      <td>3.366</td>\n",
       "      <td>7.806</td>\n",
       "      <td>...</td>\n",
       "      <td>0.000</td>\n",
       "      <td>0.000</td>\n",
       "      <td>0.000</td>\n",
       "      <td>0.000</td>\n",
       "      <td>0.000</td>\n",
       "      <td>0.000</td>\n",
       "      <td>0.000</td>\n",
       "      <td>0.000</td>\n",
       "      <td>0.000</td>\n",
       "      <td>0.000</td>\n",
       "    </tr>\n",
       "    <tr>\n",
       "      <th>1</th>\n",
       "      <td>0.000</td>\n",
       "      <td>0.000</td>\n",
       "      <td>0.978</td>\n",
       "      <td>0.000</td>\n",
       "      <td>0.000</td>\n",
       "      <td>0.000</td>\n",
       "      <td>0.000</td>\n",
       "      <td>0.000</td>\n",
       "      <td>0.000</td>\n",
       "      <td>0.000</td>\n",
       "      <td>...</td>\n",
       "      <td>0.000</td>\n",
       "      <td>0.000</td>\n",
       "      <td>0.000</td>\n",
       "      <td>0.000</td>\n",
       "      <td>0.000</td>\n",
       "      <td>0.000</td>\n",
       "      <td>0.000</td>\n",
       "      <td>0.000</td>\n",
       "      <td>0.000</td>\n",
       "      <td>0.000</td>\n",
       "    </tr>\n",
       "    <tr>\n",
       "      <th>2</th>\n",
       "      <td>0.000</td>\n",
       "      <td>0.000</td>\n",
       "      <td>0.978</td>\n",
       "      <td>0.000</td>\n",
       "      <td>0.000</td>\n",
       "      <td>0.000</td>\n",
       "      <td>0.000</td>\n",
       "      <td>0.000</td>\n",
       "      <td>1.683</td>\n",
       "      <td>0.000</td>\n",
       "      <td>...</td>\n",
       "      <td>0.000</td>\n",
       "      <td>0.000</td>\n",
       "      <td>0.000</td>\n",
       "      <td>0.000</td>\n",
       "      <td>0.000</td>\n",
       "      <td>0.000</td>\n",
       "      <td>0.000</td>\n",
       "      <td>0.000</td>\n",
       "      <td>0.000</td>\n",
       "      <td>0.000</td>\n",
       "    </tr>\n",
       "    <tr>\n",
       "      <th>3</th>\n",
       "      <td>0.000</td>\n",
       "      <td>0.000</td>\n",
       "      <td>0.978</td>\n",
       "      <td>0.000</td>\n",
       "      <td>0.000</td>\n",
       "      <td>0.000</td>\n",
       "      <td>0.852</td>\n",
       "      <td>0.792</td>\n",
       "      <td>0.000</td>\n",
       "      <td>0.000</td>\n",
       "      <td>...</td>\n",
       "      <td>0.000</td>\n",
       "      <td>0.000</td>\n",
       "      <td>0.000</td>\n",
       "      <td>0.000</td>\n",
       "      <td>0.000</td>\n",
       "      <td>0.000</td>\n",
       "      <td>0.000</td>\n",
       "      <td>0.000</td>\n",
       "      <td>0.000</td>\n",
       "      <td>0.000</td>\n",
       "    </tr>\n",
       "    <tr>\n",
       "      <th>4</th>\n",
       "      <td>0.000</td>\n",
       "      <td>0.000</td>\n",
       "      <td>0.978</td>\n",
       "      <td>0.000</td>\n",
       "      <td>5.661</td>\n",
       "      <td>0.000</td>\n",
       "      <td>0.000</td>\n",
       "      <td>0.792</td>\n",
       "      <td>0.000</td>\n",
       "      <td>0.000</td>\n",
       "      <td>...</td>\n",
       "      <td>0.000</td>\n",
       "      <td>0.000</td>\n",
       "      <td>0.000</td>\n",
       "      <td>0.000</td>\n",
       "      <td>0.000</td>\n",
       "      <td>0.000</td>\n",
       "      <td>0.000</td>\n",
       "      <td>0.000</td>\n",
       "      <td>0.000</td>\n",
       "      <td>0.000</td>\n",
       "    </tr>\n",
       "    <tr>\n",
       "      <th>...</th>\n",
       "      <td>...</td>\n",
       "      <td>...</td>\n",
       "      <td>...</td>\n",
       "      <td>...</td>\n",
       "      <td>...</td>\n",
       "      <td>...</td>\n",
       "      <td>...</td>\n",
       "      <td>...</td>\n",
       "      <td>...</td>\n",
       "      <td>...</td>\n",
       "      <td>...</td>\n",
       "      <td>...</td>\n",
       "      <td>...</td>\n",
       "      <td>...</td>\n",
       "      <td>...</td>\n",
       "      <td>...</td>\n",
       "      <td>...</td>\n",
       "      <td>...</td>\n",
       "      <td>...</td>\n",
       "      <td>...</td>\n",
       "      <td>...</td>\n",
       "    </tr>\n",
       "    <tr>\n",
       "      <th>395</th>\n",
       "      <td>0.000</td>\n",
       "      <td>0.000</td>\n",
       "      <td>1.956</td>\n",
       "      <td>0.000</td>\n",
       "      <td>5.661</td>\n",
       "      <td>4.944</td>\n",
       "      <td>0.852</td>\n",
       "      <td>0.792</td>\n",
       "      <td>5.049</td>\n",
       "      <td>0.000</td>\n",
       "      <td>...</td>\n",
       "      <td>0.000</td>\n",
       "      <td>0.000</td>\n",
       "      <td>0.000</td>\n",
       "      <td>0.000</td>\n",
       "      <td>0.000</td>\n",
       "      <td>0.000</td>\n",
       "      <td>0.000</td>\n",
       "      <td>0.000</td>\n",
       "      <td>0.000</td>\n",
       "      <td>0.000</td>\n",
       "    </tr>\n",
       "    <tr>\n",
       "      <th>396</th>\n",
       "      <td>0.000</td>\n",
       "      <td>0.000</td>\n",
       "      <td>0.978</td>\n",
       "      <td>0.000</td>\n",
       "      <td>1.887</td>\n",
       "      <td>0.000</td>\n",
       "      <td>0.852</td>\n",
       "      <td>0.792</td>\n",
       "      <td>0.000</td>\n",
       "      <td>0.000</td>\n",
       "      <td>...</td>\n",
       "      <td>0.000</td>\n",
       "      <td>0.000</td>\n",
       "      <td>0.000</td>\n",
       "      <td>0.000</td>\n",
       "      <td>0.000</td>\n",
       "      <td>0.000</td>\n",
       "      <td>0.000</td>\n",
       "      <td>0.000</td>\n",
       "      <td>0.000</td>\n",
       "      <td>0.000</td>\n",
       "    </tr>\n",
       "    <tr>\n",
       "      <th>397</th>\n",
       "      <td>0.000</td>\n",
       "      <td>0.000</td>\n",
       "      <td>0.978</td>\n",
       "      <td>0.000</td>\n",
       "      <td>1.887</td>\n",
       "      <td>0.000</td>\n",
       "      <td>1.704</td>\n",
       "      <td>1.584</td>\n",
       "      <td>10.098</td>\n",
       "      <td>0.000</td>\n",
       "      <td>...</td>\n",
       "      <td>0.000</td>\n",
       "      <td>0.000</td>\n",
       "      <td>0.000</td>\n",
       "      <td>0.000</td>\n",
       "      <td>0.000</td>\n",
       "      <td>0.000</td>\n",
       "      <td>0.000</td>\n",
       "      <td>0.000</td>\n",
       "      <td>0.000</td>\n",
       "      <td>0.000</td>\n",
       "    </tr>\n",
       "    <tr>\n",
       "      <th>398</th>\n",
       "      <td>0.000</td>\n",
       "      <td>0.000</td>\n",
       "      <td>0.000</td>\n",
       "      <td>0.000</td>\n",
       "      <td>11.322</td>\n",
       "      <td>0.000</td>\n",
       "      <td>0.852</td>\n",
       "      <td>0.792</td>\n",
       "      <td>33.660</td>\n",
       "      <td>0.000</td>\n",
       "      <td>...</td>\n",
       "      <td>0.000</td>\n",
       "      <td>0.000</td>\n",
       "      <td>0.000</td>\n",
       "      <td>0.000</td>\n",
       "      <td>0.000</td>\n",
       "      <td>0.000</td>\n",
       "      <td>0.000</td>\n",
       "      <td>0.000</td>\n",
       "      <td>0.000</td>\n",
       "      <td>0.000</td>\n",
       "    </tr>\n",
       "    <tr>\n",
       "      <th>399</th>\n",
       "      <td>0.000</td>\n",
       "      <td>0.000</td>\n",
       "      <td>0.978</td>\n",
       "      <td>0.000</td>\n",
       "      <td>0.000</td>\n",
       "      <td>0.000</td>\n",
       "      <td>1.704</td>\n",
       "      <td>1.584</td>\n",
       "      <td>0.000</td>\n",
       "      <td>0.000</td>\n",
       "      <td>...</td>\n",
       "      <td>7.806</td>\n",
       "      <td>15.612</td>\n",
       "      <td>15.612</td>\n",
       "      <td>7.806</td>\n",
       "      <td>7.806</td>\n",
       "      <td>7.806</td>\n",
       "      <td>7.806</td>\n",
       "      <td>7.806</td>\n",
       "      <td>15.612</td>\n",
       "      <td>7.806</td>\n",
       "    </tr>\n",
       "  </tbody>\n",
       "</table>\n",
       "<p>400 rows × 5208 columns</p>\n",
       "</div>"
      ],
      "text/plain": [
       "     goatzilla    farm    ada  senduro  kabupaten  lumajang  salah   satu  \\\n",
       "0       31.224  23.418  2.934    7.806      1.887     4.944  0.852  1.584   \n",
       "1        0.000   0.000  0.978    0.000      0.000     0.000  0.000  0.000   \n",
       "2        0.000   0.000  0.978    0.000      0.000     0.000  0.000  0.000   \n",
       "3        0.000   0.000  0.978    0.000      0.000     0.000  0.852  0.792   \n",
       "4        0.000   0.000  0.978    0.000      5.661     0.000  0.000  0.792   \n",
       "..         ...     ...    ...      ...        ...       ...    ...    ...   \n",
       "395      0.000   0.000  1.956    0.000      5.661     4.944  0.852  0.792   \n",
       "396      0.000   0.000  0.978    0.000      1.887     0.000  0.852  0.792   \n",
       "397      0.000   0.000  0.978    0.000      1.887     0.000  1.704  1.584   \n",
       "398      0.000   0.000  0.000    0.000     11.322     0.000  0.852  0.792   \n",
       "399      0.000   0.000  0.978    0.000      0.000     0.000  1.704  1.584   \n",
       "\n",
       "      usaha  agroindustri  ...  thermovision   layer   tiang   sutm  kapling  \\\n",
       "0     3.366         7.806  ...         0.000   0.000   0.000  0.000    0.000   \n",
       "1     0.000         0.000  ...         0.000   0.000   0.000  0.000    0.000   \n",
       "2     1.683         0.000  ...         0.000   0.000   0.000  0.000    0.000   \n",
       "3     0.000         0.000  ...         0.000   0.000   0.000  0.000    0.000   \n",
       "4     0.000         0.000  ...         0.000   0.000   0.000  0.000    0.000   \n",
       "..      ...           ...  ...           ...     ...     ...    ...      ...   \n",
       "395   5.049         0.000  ...         0.000   0.000   0.000  0.000    0.000   \n",
       "396   0.000         0.000  ...         0.000   0.000   0.000  0.000    0.000   \n",
       "397  10.098         0.000  ...         0.000   0.000   0.000  0.000    0.000   \n",
       "398  33.660         0.000  ...         0.000   0.000   0.000  0.000    0.000   \n",
       "399   0.000         0.000  ...         7.806  15.612  15.612  7.806    7.806   \n",
       "\n",
       "     attribut  menghasilka  export     pdf    csv  \n",
       "0       0.000        0.000   0.000   0.000  0.000  \n",
       "1       0.000        0.000   0.000   0.000  0.000  \n",
       "2       0.000        0.000   0.000   0.000  0.000  \n",
       "3       0.000        0.000   0.000   0.000  0.000  \n",
       "4       0.000        0.000   0.000   0.000  0.000  \n",
       "..        ...          ...     ...     ...    ...  \n",
       "395     0.000        0.000   0.000   0.000  0.000  \n",
       "396     0.000        0.000   0.000   0.000  0.000  \n",
       "397     0.000        0.000   0.000   0.000  0.000  \n",
       "398     0.000        0.000   0.000   0.000  0.000  \n",
       "399     7.806        7.806   7.806  15.612  7.806  \n",
       "\n",
       "[400 rows x 5208 columns]"
      ]
     },
     "execution_count": 49,
     "metadata": {},
     "output_type": "execute_result"
    }
   ],
   "source": [
    "datas"
   ]
  },
  {
   "cell_type": "code",
   "execution_count": 50,
   "metadata": {},
   "outputs": [],
   "source": [
    "#export to csv\n",
    "datas.to_csv('Fix.csv', index=False)\n",
    "#export to excel\n",
    "datas.to_excel('Fix.xlsx', index=False)"
   ]
  },
  {
   "cell_type": "code",
   "execution_count": 57,
   "metadata": {},
   "outputs": [],
   "source": [
    "from sklearn.cluster import KMeans\n",
    "import sys\n",
    "import matplotlib.pyplot as plt"
   ]
  },
  {
   "cell_type": "code",
   "execution_count": 54,
   "metadata": {},
   "outputs": [],
   "source": [
    "x = datas.values"
   ]
  },
  {
   "cell_type": "code",
   "execution_count": 73,
   "metadata": {},
   "outputs": [],
   "source": [
    "x_list = x.tolist()"
   ]
  },
  {
   "cell_type": "code",
   "execution_count": 55,
   "metadata": {},
   "outputs": [],
   "source": [
    "inertia = []\n",
    "for k in range(1, 10):\n",
    "    cluster_model = KMeans(n_clusters = k, random_state = 24)\n",
    "    cluster_model.fit(x)\n",
    "    inertia_value = cluster_model.inertia_\n",
    "    inertia.append(inertia_value)"
   ]
  },
  {
   "cell_type": "code",
   "execution_count": 62,
   "metadata": {},
   "outputs": [
    {
     "data": {
      "image/png": "[encoded data removed]",
      "text/plain": [
       "<Figure size 432x288 with 1 Axes>"
      ]
     },
     "metadata": {
      "needs_background": "light"
     },
     "output_type": "display_data"
    }
   ],
   "source": [
    "plt.plot(range(1, 10), inertia, 'bx-')\n",
    "plt.title('The Elbow Method - Inertia plot', fontsize = 20)\n",
    "plt.xlabel('No. of Clusters')\n",
    "plt.ylabel('inertia')\n",
    "plt.show()"
   ]
  },
  {
   "cell_type": "code",
   "execution_count": 63,
   "metadata": {},
   "outputs": [
    {
     "data": {
      "text/plain": [
       "KMeans(algorithm='auto', copy_x=True, init='k-means++', max_iter=200,\n",
       "       n_clusters=9, n_init=10, n_jobs=None, precompute_distances='auto',\n",
       "       random_state=24, tol=0.0001, verbose=0)"
      ]
     },
     "execution_count": 63,
     "metadata": {},
     "output_type": "execute_result"
    }
   ],
   "source": [
    "true_k = 9\n",
    "model = KMeans(n_clusters=true_k, random_state=24, init='k-means++', max_iter=200, n_init=10)\n",
    "model.fit(x)"
   ]
  },
  {
   "cell_type": "code",
   "execution_count": 66,
   "metadata": {},
   "outputs": [],
   "source": [
    "labels=model.labels_"
   ]
  },
  {
   "cell_type": "code",
   "execution_count": 65,
   "metadata": {},
   "outputs": [],
   "source": [
    "from wordcloud import WordCloud"
   ]
  },
  {
   "cell_type": "code",
   "execution_count": null,
   "metadata": {},
   "outputs": [],
   "source": []
  }
 ],
 "metadata": {
  "colab": {
   "collapsed_sections": [],
   "name": "skripsi.ipynb",
   "provenance": []
  },
  "kernelspec": {
   "display_name": "Python 3",
   "language": "python",
   "name": "python3"
  },
  "language_info": {
   "codemirror_mode": {
    "name": "ipython",
    "version": 3
   },
   "file_extension": ".py",
   "mimetype": "text/x-python",
   "name": "python",
   "nbconvert_exporter": "python",
   "pygments_lexer": "ipython3",
   "version": "3.7.6"
  }
 },
 "nbformat": 4,
 "nbformat_minor": 1
}
